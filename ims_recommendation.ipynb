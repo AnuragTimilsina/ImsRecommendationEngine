{
 "cells": [
  {
   "cell_type": "code",
   "execution_count": 65,
   "id": "2566c1f2",
   "metadata": {},
   "outputs": [],
   "source": [
    "# It is a quick stackoverflow fix to import gensim\n",
    "import smart_open \n",
    "smart_open.open = smart_open.smart_open"
   ]
  },
  {
   "cell_type": "code",
   "execution_count": 66,
   "id": "170d0f2c",
   "metadata": {},
   "outputs": [],
   "source": [
    "import pandas as pd\n",
    "import numpy as np \n",
    "import random \n",
    "from tqdm import tqdm\n",
    "from gensim.models import Word2Vec\n",
    "import matplotlib.pyplot as plt"
   ]
  },
  {
   "cell_type": "code",
   "execution_count": 67,
   "id": "02e7f04e",
   "metadata": {},
   "outputs": [
    {
     "data": {
      "text/plain": [
       "{'results': [{'username': '',\n",
       "   'id': 1,\n",
       "   'products': [{'product_name': 'Spatula',\n",
       "     'url_slug': '12345',\n",
       "     'product_id': 1},\n",
       "    {'product_name': 'Pressure Cooker', 'url_slug': '8764', 'product_id': 2},\n",
       "    {'product_name': 'Spatula', 'url_slug': '12345', 'product_id': 1},\n",
       "    {'product_name': 'Pressure Cooker', 'url_slug': '8764', 'product_id': 2},\n",
       "    {'product_name': 'Spatula', 'url_slug': '12345', 'product_id': 1},\n",
       "    {'product_name': 'Pressure Cooker', 'url_slug': '8764', 'product_id': 2}]},\n",
       "  {'username': 'Ashish Thapa',\n",
       "   'id': 2,\n",
       "   'products': [{'product_name': 'Spatula',\n",
       "     'url_slug': '12345',\n",
       "     'product_id': 1},\n",
       "    {'product_name': 'Pressure Cooker', 'url_slug': '8764', 'product_id': 2},\n",
       "    {'product_name': 'Spatula', 'url_slug': '12345', 'product_id': 1},\n",
       "    {'product_name': 'Pressure Cooker', 'url_slug': '8764', 'product_id': 2}]},\n",
       "  {'username': 'ashish',\n",
       "   'id': 4,\n",
       "   'products': [{'product_name': 'Spatula',\n",
       "     'url_slug': '12345',\n",
       "     'product_id': 1},\n",
       "    {'product_name': 'Pressure Cooker', 'url_slug': '8764', 'product_id': 2},\n",
       "    {'product_name': 'Spatula', 'url_slug': '12345', 'product_id': 1},\n",
       "    {'product_name': 'Pressure Cooker', 'url_slug': '8764', 'product_id': 2},\n",
       "    {'product_name': 'Spatula', 'url_slug': '12345', 'product_id': 1},\n",
       "    {'product_name': 'Pressure Cooker', 'url_slug': '8764', 'product_id': 2}]},\n",
       "  {'username': 'gov', 'id': 5, 'products': []}]}"
      ]
     },
     "execution_count": 67,
     "metadata": {},
     "output_type": "execute_result"
    }
   ],
   "source": [
    "import json\n",
    "\n",
    "with open('customer_dataset.json') as data_file:\n",
    "    data = json.load(data_file)\n",
    "data"
   ]
  },
  {
   "cell_type": "code",
   "execution_count": 68,
   "id": "08b29d82",
   "metadata": {},
   "outputs": [
    {
     "name": "stdout",
     "output_type": "stream",
     "text": [
      "[{'username': '', 'id': 1, 'products': [{'product_name': 'Spatula', 'url_slug': '12345', 'product_id': 1}, {'product_name': 'Pressure Cooker', 'url_slug': '8764', 'product_id': 2}, {'product_name': 'Spatula', 'url_slug': '12345', 'product_id': 1}, {'product_name': 'Pressure Cooker', 'url_slug': '8764', 'product_id': 2}, {'product_name': 'Spatula', 'url_slug': '12345', 'product_id': 1}, {'product_name': 'Pressure Cooker', 'url_slug': '8764', 'product_id': 2}]}, {'username': 'Ashish Thapa', 'id': 2, 'products': [{'product_name': 'Spatula', 'url_slug': '12345', 'product_id': 1}, {'product_name': 'Pressure Cooker', 'url_slug': '8764', 'product_id': 2}, {'product_name': 'Spatula', 'url_slug': '12345', 'product_id': 1}, {'product_name': 'Pressure Cooker', 'url_slug': '8764', 'product_id': 2}]}, {'username': 'ashish', 'id': 4, 'products': [{'product_name': 'Spatula', 'url_slug': '12345', 'product_id': 1}, {'product_name': 'Pressure Cooker', 'url_slug': '8764', 'product_id': 2}, {'product_name': 'Spatula', 'url_slug': '12345', 'product_id': 1}, {'product_name': 'Pressure Cooker', 'url_slug': '8764', 'product_id': 2}, {'product_name': 'Spatula', 'url_slug': '12345', 'product_id': 1}, {'product_name': 'Pressure Cooker', 'url_slug': '8764', 'product_id': 2}]}, {'username': 'gov', 'id': 5, 'products': []}]\n"
     ]
    }
   ],
   "source": [
    "purchase_list = []\n",
    "\n",
    "for i in data.items(): \n",
    "    print(i[1][:])\n",
    "    purchase_list.append(i[1][:])"
   ]
  },
  {
   "cell_type": "code",
   "execution_count": 69,
   "id": "c21251af",
   "metadata": {},
   "outputs": [
    {
     "data": {
      "text/plain": [
       "[[{'username': '',\n",
       "   'id': 1,\n",
       "   'products': [{'product_name': 'Spatula',\n",
       "     'url_slug': '12345',\n",
       "     'product_id': 1},\n",
       "    {'product_name': 'Pressure Cooker', 'url_slug': '8764', 'product_id': 2},\n",
       "    {'product_name': 'Spatula', 'url_slug': '12345', 'product_id': 1},\n",
       "    {'product_name': 'Pressure Cooker', 'url_slug': '8764', 'product_id': 2},\n",
       "    {'product_name': 'Spatula', 'url_slug': '12345', 'product_id': 1},\n",
       "    {'product_name': 'Pressure Cooker', 'url_slug': '8764', 'product_id': 2}]},\n",
       "  {'username': 'Ashish Thapa',\n",
       "   'id': 2,\n",
       "   'products': [{'product_name': 'Spatula',\n",
       "     'url_slug': '12345',\n",
       "     'product_id': 1},\n",
       "    {'product_name': 'Pressure Cooker', 'url_slug': '8764', 'product_id': 2},\n",
       "    {'product_name': 'Spatula', 'url_slug': '12345', 'product_id': 1},\n",
       "    {'product_name': 'Pressure Cooker', 'url_slug': '8764', 'product_id': 2}]},\n",
       "  {'username': 'ashish',\n",
       "   'id': 4,\n",
       "   'products': [{'product_name': 'Spatula',\n",
       "     'url_slug': '12345',\n",
       "     'product_id': 1},\n",
       "    {'product_name': 'Pressure Cooker', 'url_slug': '8764', 'product_id': 2},\n",
       "    {'product_name': 'Spatula', 'url_slug': '12345', 'product_id': 1},\n",
       "    {'product_name': 'Pressure Cooker', 'url_slug': '8764', 'product_id': 2},\n",
       "    {'product_name': 'Spatula', 'url_slug': '12345', 'product_id': 1},\n",
       "    {'product_name': 'Pressure Cooker', 'url_slug': '8764', 'product_id': 2}]},\n",
       "  {'username': 'gov', 'id': 5, 'products': []}]]"
      ]
     },
     "execution_count": 69,
     "metadata": {},
     "output_type": "execute_result"
    }
   ],
   "source": [
    "purchase_list"
   ]
  },
  {
   "cell_type": "code",
   "execution_count": 70,
   "id": "d19fd40d",
   "metadata": {},
   "outputs": [
    {
     "data": {
      "text/plain": [
       "[{'username': '',\n",
       "  'id': 1,\n",
       "  'products': [{'product_name': 'Spatula',\n",
       "    'url_slug': '12345',\n",
       "    'product_id': 1},\n",
       "   {'product_name': 'Pressure Cooker', 'url_slug': '8764', 'product_id': 2},\n",
       "   {'product_name': 'Spatula', 'url_slug': '12345', 'product_id': 1},\n",
       "   {'product_name': 'Pressure Cooker', 'url_slug': '8764', 'product_id': 2},\n",
       "   {'product_name': 'Spatula', 'url_slug': '12345', 'product_id': 1},\n",
       "   {'product_name': 'Pressure Cooker', 'url_slug': '8764', 'product_id': 2}]},\n",
       " {'username': 'Ashish Thapa',\n",
       "  'id': 2,\n",
       "  'products': [{'product_name': 'Spatula',\n",
       "    'url_slug': '12345',\n",
       "    'product_id': 1},\n",
       "   {'product_name': 'Pressure Cooker', 'url_slug': '8764', 'product_id': 2},\n",
       "   {'product_name': 'Spatula', 'url_slug': '12345', 'product_id': 1},\n",
       "   {'product_name': 'Pressure Cooker', 'url_slug': '8764', 'product_id': 2}]},\n",
       " {'username': 'ashish',\n",
       "  'id': 4,\n",
       "  'products': [{'product_name': 'Spatula',\n",
       "    'url_slug': '12345',\n",
       "    'product_id': 1},\n",
       "   {'product_name': 'Pressure Cooker', 'url_slug': '8764', 'product_id': 2},\n",
       "   {'product_name': 'Spatula', 'url_slug': '12345', 'product_id': 1},\n",
       "   {'product_name': 'Pressure Cooker', 'url_slug': '8764', 'product_id': 2},\n",
       "   {'product_name': 'Spatula', 'url_slug': '12345', 'product_id': 1},\n",
       "   {'product_name': 'Pressure Cooker', 'url_slug': '8764', 'product_id': 2}]},\n",
       " {'username': 'gov', 'id': 5, 'products': []}]"
      ]
     },
     "execution_count": 70,
     "metadata": {},
     "output_type": "execute_result"
    }
   ],
   "source": [
    "purchase_list[0]"
   ]
  },
  {
   "cell_type": "code",
   "execution_count": 71,
   "id": "e29aa30b",
   "metadata": {},
   "outputs": [],
   "source": [
    "purchase_json = json.dumps(purchase_list[0])"
   ]
  },
  {
   "cell_type": "code",
   "execution_count": 72,
   "id": "5388a569",
   "metadata": {},
   "outputs": [
    {
     "data": {
      "text/plain": [
       "'[{\"username\": \"\", \"id\": 1, \"products\": [{\"product_name\": \"Spatula\", \"url_slug\": \"12345\", \"product_id\": 1}, {\"product_name\": \"Pressure Cooker\", \"url_slug\": \"8764\", \"product_id\": 2}, {\"product_name\": \"Spatula\", \"url_slug\": \"12345\", \"product_id\": 1}, {\"product_name\": \"Pressure Cooker\", \"url_slug\": \"8764\", \"product_id\": 2}, {\"product_name\": \"Spatula\", \"url_slug\": \"12345\", \"product_id\": 1}, {\"product_name\": \"Pressure Cooker\", \"url_slug\": \"8764\", \"product_id\": 2}]}, {\"username\": \"Ashish Thapa\", \"id\": 2, \"products\": [{\"product_name\": \"Spatula\", \"url_slug\": \"12345\", \"product_id\": 1}, {\"product_name\": \"Pressure Cooker\", \"url_slug\": \"8764\", \"product_id\": 2}, {\"product_name\": \"Spatula\", \"url_slug\": \"12345\", \"product_id\": 1}, {\"product_name\": \"Pressure Cooker\", \"url_slug\": \"8764\", \"product_id\": 2}]}, {\"username\": \"ashish\", \"id\": 4, \"products\": [{\"product_name\": \"Spatula\", \"url_slug\": \"12345\", \"product_id\": 1}, {\"product_name\": \"Pressure Cooker\", \"url_slug\": \"8764\", \"product_id\": 2}, {\"product_name\": \"Spatula\", \"url_slug\": \"12345\", \"product_id\": 1}, {\"product_name\": \"Pressure Cooker\", \"url_slug\": \"8764\", \"product_id\": 2}, {\"product_name\": \"Spatula\", \"url_slug\": \"12345\", \"product_id\": 1}, {\"product_name\": \"Pressure Cooker\", \"url_slug\": \"8764\", \"product_id\": 2}]}, {\"username\": \"gov\", \"id\": 5, \"products\": []}]'"
      ]
     },
     "execution_count": 72,
     "metadata": {},
     "output_type": "execute_result"
    }
   ],
   "source": [
    "purchase_json"
   ]
  },
  {
   "cell_type": "code",
   "execution_count": 73,
   "id": "57f0a844",
   "metadata": {},
   "outputs": [],
   "source": [
    "df = pd.read_json(purchase_json)"
   ]
  },
  {
   "cell_type": "code",
   "execution_count": 74,
   "id": "91db7600",
   "metadata": {},
   "outputs": [
    {
     "data": {
      "text/html": [
       "<div>\n",
       "<style scoped>\n",
       "    .dataframe tbody tr th:only-of-type {\n",
       "        vertical-align: middle;\n",
       "    }\n",
       "\n",
       "    .dataframe tbody tr th {\n",
       "        vertical-align: top;\n",
       "    }\n",
       "\n",
       "    .dataframe thead th {\n",
       "        text-align: right;\n",
       "    }\n",
       "</style>\n",
       "<table border=\"1\" class=\"dataframe\">\n",
       "  <thead>\n",
       "    <tr style=\"text-align: right;\">\n",
       "      <th></th>\n",
       "      <th>username</th>\n",
       "      <th>id</th>\n",
       "      <th>products</th>\n",
       "    </tr>\n",
       "  </thead>\n",
       "  <tbody>\n",
       "    <tr>\n",
       "      <th>0</th>\n",
       "      <td></td>\n",
       "      <td>1</td>\n",
       "      <td>[{'product_name': 'Spatula', 'url_slug': '1234...</td>\n",
       "    </tr>\n",
       "    <tr>\n",
       "      <th>1</th>\n",
       "      <td>Ashish Thapa</td>\n",
       "      <td>2</td>\n",
       "      <td>[{'product_name': 'Spatula', 'url_slug': '1234...</td>\n",
       "    </tr>\n",
       "    <tr>\n",
       "      <th>2</th>\n",
       "      <td>ashish</td>\n",
       "      <td>4</td>\n",
       "      <td>[{'product_name': 'Spatula', 'url_slug': '1234...</td>\n",
       "    </tr>\n",
       "    <tr>\n",
       "      <th>3</th>\n",
       "      <td>gov</td>\n",
       "      <td>5</td>\n",
       "      <td>[]</td>\n",
       "    </tr>\n",
       "  </tbody>\n",
       "</table>\n",
       "</div>"
      ],
      "text/plain": [
       "       username  id                                           products\n",
       "0                 1  [{'product_name': 'Spatula', 'url_slug': '1234...\n",
       "1  Ashish Thapa   2  [{'product_name': 'Spatula', 'url_slug': '1234...\n",
       "2        ashish   4  [{'product_name': 'Spatula', 'url_slug': '1234...\n",
       "3           gov   5                                                 []"
      ]
     },
     "execution_count": 74,
     "metadata": {},
     "output_type": "execute_result"
    }
   ],
   "source": [
    "df"
   ]
  },
  {
   "cell_type": "code",
   "execution_count": 75,
   "id": "61f2887b",
   "metadata": {},
   "outputs": [
    {
     "data": {
      "text/plain": [
       "[{'product_name': 'Spatula', 'url_slug': '12345', 'product_id': 1},\n",
       " {'product_name': 'Pressure Cooker', 'url_slug': '8764', 'product_id': 2},\n",
       " {'product_name': 'Spatula', 'url_slug': '12345', 'product_id': 1},\n",
       " {'product_name': 'Pressure Cooker', 'url_slug': '8764', 'product_id': 2},\n",
       " {'product_name': 'Spatula', 'url_slug': '12345', 'product_id': 1},\n",
       " {'product_name': 'Pressure Cooker', 'url_slug': '8764', 'product_id': 2}]"
      ]
     },
     "execution_count": 75,
     "metadata": {},
     "output_type": "execute_result"
    }
   ],
   "source": [
    "df['products'][0]"
   ]
  },
  {
   "cell_type": "code",
   "execution_count": 76,
   "id": "d91eac1f",
   "metadata": {},
   "outputs": [
    {
     "data": {
      "text/html": [
       "<div>\n",
       "<style scoped>\n",
       "    .dataframe tbody tr th:only-of-type {\n",
       "        vertical-align: middle;\n",
       "    }\n",
       "\n",
       "    .dataframe tbody tr th {\n",
       "        vertical-align: top;\n",
       "    }\n",
       "\n",
       "    .dataframe thead th {\n",
       "        text-align: right;\n",
       "    }\n",
       "</style>\n",
       "<table border=\"1\" class=\"dataframe\">\n",
       "  <thead>\n",
       "    <tr style=\"text-align: right;\">\n",
       "      <th></th>\n",
       "      <th>username</th>\n",
       "      <th>products</th>\n",
       "    </tr>\n",
       "    <tr>\n",
       "      <th>id</th>\n",
       "      <th></th>\n",
       "      <th></th>\n",
       "    </tr>\n",
       "  </thead>\n",
       "  <tbody>\n",
       "    <tr>\n",
       "      <th>1</th>\n",
       "      <td></td>\n",
       "      <td>{'product_name': 'Spatula', 'url_slug': '12345...</td>\n",
       "    </tr>\n",
       "    <tr>\n",
       "      <th>1</th>\n",
       "      <td></td>\n",
       "      <td>{'product_name': 'Pressure Cooker', 'url_slug'...</td>\n",
       "    </tr>\n",
       "    <tr>\n",
       "      <th>1</th>\n",
       "      <td></td>\n",
       "      <td>{'product_name': 'Spatula', 'url_slug': '12345...</td>\n",
       "    </tr>\n",
       "    <tr>\n",
       "      <th>1</th>\n",
       "      <td></td>\n",
       "      <td>{'product_name': 'Pressure Cooker', 'url_slug'...</td>\n",
       "    </tr>\n",
       "    <tr>\n",
       "      <th>1</th>\n",
       "      <td></td>\n",
       "      <td>{'product_name': 'Spatula', 'url_slug': '12345...</td>\n",
       "    </tr>\n",
       "    <tr>\n",
       "      <th>1</th>\n",
       "      <td></td>\n",
       "      <td>{'product_name': 'Pressure Cooker', 'url_slug'...</td>\n",
       "    </tr>\n",
       "    <tr>\n",
       "      <th>2</th>\n",
       "      <td>Ashish Thapa</td>\n",
       "      <td>{'product_name': 'Spatula', 'url_slug': '12345...</td>\n",
       "    </tr>\n",
       "    <tr>\n",
       "      <th>2</th>\n",
       "      <td>Ashish Thapa</td>\n",
       "      <td>{'product_name': 'Pressure Cooker', 'url_slug'...</td>\n",
       "    </tr>\n",
       "    <tr>\n",
       "      <th>2</th>\n",
       "      <td>Ashish Thapa</td>\n",
       "      <td>{'product_name': 'Spatula', 'url_slug': '12345...</td>\n",
       "    </tr>\n",
       "    <tr>\n",
       "      <th>2</th>\n",
       "      <td>Ashish Thapa</td>\n",
       "      <td>{'product_name': 'Pressure Cooker', 'url_slug'...</td>\n",
       "    </tr>\n",
       "    <tr>\n",
       "      <th>4</th>\n",
       "      <td>ashish</td>\n",
       "      <td>{'product_name': 'Spatula', 'url_slug': '12345...</td>\n",
       "    </tr>\n",
       "    <tr>\n",
       "      <th>4</th>\n",
       "      <td>ashish</td>\n",
       "      <td>{'product_name': 'Pressure Cooker', 'url_slug'...</td>\n",
       "    </tr>\n",
       "    <tr>\n",
       "      <th>4</th>\n",
       "      <td>ashish</td>\n",
       "      <td>{'product_name': 'Spatula', 'url_slug': '12345...</td>\n",
       "    </tr>\n",
       "    <tr>\n",
       "      <th>4</th>\n",
       "      <td>ashish</td>\n",
       "      <td>{'product_name': 'Pressure Cooker', 'url_slug'...</td>\n",
       "    </tr>\n",
       "    <tr>\n",
       "      <th>4</th>\n",
       "      <td>ashish</td>\n",
       "      <td>{'product_name': 'Spatula', 'url_slug': '12345...</td>\n",
       "    </tr>\n",
       "    <tr>\n",
       "      <th>4</th>\n",
       "      <td>ashish</td>\n",
       "      <td>{'product_name': 'Pressure Cooker', 'url_slug'...</td>\n",
       "    </tr>\n",
       "    <tr>\n",
       "      <th>5</th>\n",
       "      <td>gov</td>\n",
       "      <td>NaN</td>\n",
       "    </tr>\n",
       "  </tbody>\n",
       "</table>\n",
       "</div>"
      ],
      "text/plain": [
       "        username                                           products\n",
       "id                                                                 \n",
       "1                 {'product_name': 'Spatula', 'url_slug': '12345...\n",
       "1                 {'product_name': 'Pressure Cooker', 'url_slug'...\n",
       "1                 {'product_name': 'Spatula', 'url_slug': '12345...\n",
       "1                 {'product_name': 'Pressure Cooker', 'url_slug'...\n",
       "1                 {'product_name': 'Spatula', 'url_slug': '12345...\n",
       "1                 {'product_name': 'Pressure Cooker', 'url_slug'...\n",
       "2   Ashish Thapa  {'product_name': 'Spatula', 'url_slug': '12345...\n",
       "2   Ashish Thapa  {'product_name': 'Pressure Cooker', 'url_slug'...\n",
       "2   Ashish Thapa  {'product_name': 'Spatula', 'url_slug': '12345...\n",
       "2   Ashish Thapa  {'product_name': 'Pressure Cooker', 'url_slug'...\n",
       "4         ashish  {'product_name': 'Spatula', 'url_slug': '12345...\n",
       "4         ashish  {'product_name': 'Pressure Cooker', 'url_slug'...\n",
       "4         ashish  {'product_name': 'Spatula', 'url_slug': '12345...\n",
       "4         ashish  {'product_name': 'Pressure Cooker', 'url_slug'...\n",
       "4         ashish  {'product_name': 'Spatula', 'url_slug': '12345...\n",
       "4         ashish  {'product_name': 'Pressure Cooker', 'url_slug'...\n",
       "5            gov                                                NaN"
      ]
     },
     "execution_count": 76,
     "metadata": {},
     "output_type": "execute_result"
    }
   ],
   "source": [
    "df = df.explode('products')\n",
    "df = df.set_index('id', drop=True)\n",
    "df"
   ]
  },
  {
   "cell_type": "code",
   "execution_count": 81,
   "id": "4191a7ea",
   "metadata": {},
   "outputs": [
    {
     "name": "stderr",
     "output_type": "stream",
     "text": [
      "C:\\Users\\ASUS\\anaconda3\\envs\\tensor_gpu\\lib\\site-packages\\ipykernel_launcher.py:5: FutureWarning: pandas.io.json.json_normalize is deprecated, use pandas.json_normalize instead\n",
      "  \"\"\"\n"
     ]
    }
   ],
   "source": [
    "\n",
    "json_struct = json.loads(df.to_json(orient=\"records\"))    \n",
    "df_flat = pd.io.json.json_normalize(json_struct)"
   ]
  },
  {
   "cell_type": "code",
   "execution_count": 82,
   "id": "ad218f4a",
   "metadata": {},
   "outputs": [
    {
     "data": {
      "text/html": [
       "<div>\n",
       "<style scoped>\n",
       "    .dataframe tbody tr th:only-of-type {\n",
       "        vertical-align: middle;\n",
       "    }\n",
       "\n",
       "    .dataframe tbody tr th {\n",
       "        vertical-align: top;\n",
       "    }\n",
       "\n",
       "    .dataframe thead th {\n",
       "        text-align: right;\n",
       "    }\n",
       "</style>\n",
       "<table border=\"1\" class=\"dataframe\">\n",
       "  <thead>\n",
       "    <tr style=\"text-align: right;\">\n",
       "      <th></th>\n",
       "      <th>username</th>\n",
       "      <th>products.product_name</th>\n",
       "      <th>products.url_slug</th>\n",
       "      <th>products.product_id</th>\n",
       "      <th>products</th>\n",
       "    </tr>\n",
       "  </thead>\n",
       "  <tbody>\n",
       "    <tr>\n",
       "      <th>0</th>\n",
       "      <td></td>\n",
       "      <td>Spatula</td>\n",
       "      <td>12345</td>\n",
       "      <td>1.0</td>\n",
       "      <td>NaN</td>\n",
       "    </tr>\n",
       "    <tr>\n",
       "      <th>1</th>\n",
       "      <td></td>\n",
       "      <td>Pressure Cooker</td>\n",
       "      <td>8764</td>\n",
       "      <td>2.0</td>\n",
       "      <td>NaN</td>\n",
       "    </tr>\n",
       "    <tr>\n",
       "      <th>2</th>\n",
       "      <td></td>\n",
       "      <td>Spatula</td>\n",
       "      <td>12345</td>\n",
       "      <td>1.0</td>\n",
       "      <td>NaN</td>\n",
       "    </tr>\n",
       "    <tr>\n",
       "      <th>3</th>\n",
       "      <td></td>\n",
       "      <td>Pressure Cooker</td>\n",
       "      <td>8764</td>\n",
       "      <td>2.0</td>\n",
       "      <td>NaN</td>\n",
       "    </tr>\n",
       "    <tr>\n",
       "      <th>4</th>\n",
       "      <td></td>\n",
       "      <td>Spatula</td>\n",
       "      <td>12345</td>\n",
       "      <td>1.0</td>\n",
       "      <td>NaN</td>\n",
       "    </tr>\n",
       "    <tr>\n",
       "      <th>5</th>\n",
       "      <td></td>\n",
       "      <td>Pressure Cooker</td>\n",
       "      <td>8764</td>\n",
       "      <td>2.0</td>\n",
       "      <td>NaN</td>\n",
       "    </tr>\n",
       "    <tr>\n",
       "      <th>6</th>\n",
       "      <td>Ashish Thapa</td>\n",
       "      <td>Spatula</td>\n",
       "      <td>12345</td>\n",
       "      <td>1.0</td>\n",
       "      <td>NaN</td>\n",
       "    </tr>\n",
       "    <tr>\n",
       "      <th>7</th>\n",
       "      <td>Ashish Thapa</td>\n",
       "      <td>Pressure Cooker</td>\n",
       "      <td>8764</td>\n",
       "      <td>2.0</td>\n",
       "      <td>NaN</td>\n",
       "    </tr>\n",
       "    <tr>\n",
       "      <th>8</th>\n",
       "      <td>Ashish Thapa</td>\n",
       "      <td>Spatula</td>\n",
       "      <td>12345</td>\n",
       "      <td>1.0</td>\n",
       "      <td>NaN</td>\n",
       "    </tr>\n",
       "    <tr>\n",
       "      <th>9</th>\n",
       "      <td>Ashish Thapa</td>\n",
       "      <td>Pressure Cooker</td>\n",
       "      <td>8764</td>\n",
       "      <td>2.0</td>\n",
       "      <td>NaN</td>\n",
       "    </tr>\n",
       "    <tr>\n",
       "      <th>10</th>\n",
       "      <td>ashish</td>\n",
       "      <td>Spatula</td>\n",
       "      <td>12345</td>\n",
       "      <td>1.0</td>\n",
       "      <td>NaN</td>\n",
       "    </tr>\n",
       "    <tr>\n",
       "      <th>11</th>\n",
       "      <td>ashish</td>\n",
       "      <td>Pressure Cooker</td>\n",
       "      <td>8764</td>\n",
       "      <td>2.0</td>\n",
       "      <td>NaN</td>\n",
       "    </tr>\n",
       "    <tr>\n",
       "      <th>12</th>\n",
       "      <td>ashish</td>\n",
       "      <td>Spatula</td>\n",
       "      <td>12345</td>\n",
       "      <td>1.0</td>\n",
       "      <td>NaN</td>\n",
       "    </tr>\n",
       "    <tr>\n",
       "      <th>13</th>\n",
       "      <td>ashish</td>\n",
       "      <td>Pressure Cooker</td>\n",
       "      <td>8764</td>\n",
       "      <td>2.0</td>\n",
       "      <td>NaN</td>\n",
       "    </tr>\n",
       "    <tr>\n",
       "      <th>14</th>\n",
       "      <td>ashish</td>\n",
       "      <td>Spatula</td>\n",
       "      <td>12345</td>\n",
       "      <td>1.0</td>\n",
       "      <td>NaN</td>\n",
       "    </tr>\n",
       "    <tr>\n",
       "      <th>15</th>\n",
       "      <td>ashish</td>\n",
       "      <td>Pressure Cooker</td>\n",
       "      <td>8764</td>\n",
       "      <td>2.0</td>\n",
       "      <td>NaN</td>\n",
       "    </tr>\n",
       "    <tr>\n",
       "      <th>16</th>\n",
       "      <td>gov</td>\n",
       "      <td>NaN</td>\n",
       "      <td>NaN</td>\n",
       "      <td>NaN</td>\n",
       "      <td>NaN</td>\n",
       "    </tr>\n",
       "  </tbody>\n",
       "</table>\n",
       "</div>"
      ],
      "text/plain": [
       "        username products.product_name products.url_slug  products.product_id  \\\n",
       "0                              Spatula             12345                  1.0   \n",
       "1                      Pressure Cooker              8764                  2.0   \n",
       "2                              Spatula             12345                  1.0   \n",
       "3                      Pressure Cooker              8764                  2.0   \n",
       "4                              Spatula             12345                  1.0   \n",
       "5                      Pressure Cooker              8764                  2.0   \n",
       "6   Ashish Thapa               Spatula             12345                  1.0   \n",
       "7   Ashish Thapa       Pressure Cooker              8764                  2.0   \n",
       "8   Ashish Thapa               Spatula             12345                  1.0   \n",
       "9   Ashish Thapa       Pressure Cooker              8764                  2.0   \n",
       "10        ashish               Spatula             12345                  1.0   \n",
       "11        ashish       Pressure Cooker              8764                  2.0   \n",
       "12        ashish               Spatula             12345                  1.0   \n",
       "13        ashish       Pressure Cooker              8764                  2.0   \n",
       "14        ashish               Spatula             12345                  1.0   \n",
       "15        ashish       Pressure Cooker              8764                  2.0   \n",
       "16           gov                   NaN               NaN                  NaN   \n",
       "\n",
       "    products  \n",
       "0        NaN  \n",
       "1        NaN  \n",
       "2        NaN  \n",
       "3        NaN  \n",
       "4        NaN  \n",
       "5        NaN  \n",
       "6        NaN  \n",
       "7        NaN  \n",
       "8        NaN  \n",
       "9        NaN  \n",
       "10       NaN  \n",
       "11       NaN  \n",
       "12       NaN  \n",
       "13       NaN  \n",
       "14       NaN  \n",
       "15       NaN  \n",
       "16       NaN  "
      ]
     },
     "execution_count": 82,
     "metadata": {},
     "output_type": "execute_result"
    }
   ],
   "source": [
    "df_flat"
   ]
  },
  {
   "cell_type": "code",
   "execution_count": 84,
   "id": "dd4eb015",
   "metadata": {},
   "outputs": [
    {
     "data": {
      "text/html": [
       "<div>\n",
       "<style scoped>\n",
       "    .dataframe tbody tr th:only-of-type {\n",
       "        vertical-align: middle;\n",
       "    }\n",
       "\n",
       "    .dataframe tbody tr th {\n",
       "        vertical-align: top;\n",
       "    }\n",
       "\n",
       "    .dataframe thead th {\n",
       "        text-align: right;\n",
       "    }\n",
       "</style>\n",
       "<table border=\"1\" class=\"dataframe\">\n",
       "  <thead>\n",
       "    <tr style=\"text-align: right;\">\n",
       "      <th></th>\n",
       "      <th>username</th>\n",
       "      <th>products.product_name</th>\n",
       "      <th>products.url_slug</th>\n",
       "      <th>products.product_id</th>\n",
       "    </tr>\n",
       "  </thead>\n",
       "  <tbody>\n",
       "    <tr>\n",
       "      <th>0</th>\n",
       "      <td></td>\n",
       "      <td>Spatula</td>\n",
       "      <td>12345</td>\n",
       "      <td>1.0</td>\n",
       "    </tr>\n",
       "    <tr>\n",
       "      <th>1</th>\n",
       "      <td></td>\n",
       "      <td>Pressure Cooker</td>\n",
       "      <td>8764</td>\n",
       "      <td>2.0</td>\n",
       "    </tr>\n",
       "    <tr>\n",
       "      <th>2</th>\n",
       "      <td></td>\n",
       "      <td>Spatula</td>\n",
       "      <td>12345</td>\n",
       "      <td>1.0</td>\n",
       "    </tr>\n",
       "    <tr>\n",
       "      <th>3</th>\n",
       "      <td></td>\n",
       "      <td>Pressure Cooker</td>\n",
       "      <td>8764</td>\n",
       "      <td>2.0</td>\n",
       "    </tr>\n",
       "    <tr>\n",
       "      <th>4</th>\n",
       "      <td></td>\n",
       "      <td>Spatula</td>\n",
       "      <td>12345</td>\n",
       "      <td>1.0</td>\n",
       "    </tr>\n",
       "    <tr>\n",
       "      <th>5</th>\n",
       "      <td></td>\n",
       "      <td>Pressure Cooker</td>\n",
       "      <td>8764</td>\n",
       "      <td>2.0</td>\n",
       "    </tr>\n",
       "    <tr>\n",
       "      <th>6</th>\n",
       "      <td>Ashish Thapa</td>\n",
       "      <td>Spatula</td>\n",
       "      <td>12345</td>\n",
       "      <td>1.0</td>\n",
       "    </tr>\n",
       "    <tr>\n",
       "      <th>7</th>\n",
       "      <td>Ashish Thapa</td>\n",
       "      <td>Pressure Cooker</td>\n",
       "      <td>8764</td>\n",
       "      <td>2.0</td>\n",
       "    </tr>\n",
       "    <tr>\n",
       "      <th>8</th>\n",
       "      <td>Ashish Thapa</td>\n",
       "      <td>Spatula</td>\n",
       "      <td>12345</td>\n",
       "      <td>1.0</td>\n",
       "    </tr>\n",
       "    <tr>\n",
       "      <th>9</th>\n",
       "      <td>Ashish Thapa</td>\n",
       "      <td>Pressure Cooker</td>\n",
       "      <td>8764</td>\n",
       "      <td>2.0</td>\n",
       "    </tr>\n",
       "    <tr>\n",
       "      <th>10</th>\n",
       "      <td>ashish</td>\n",
       "      <td>Spatula</td>\n",
       "      <td>12345</td>\n",
       "      <td>1.0</td>\n",
       "    </tr>\n",
       "    <tr>\n",
       "      <th>11</th>\n",
       "      <td>ashish</td>\n",
       "      <td>Pressure Cooker</td>\n",
       "      <td>8764</td>\n",
       "      <td>2.0</td>\n",
       "    </tr>\n",
       "    <tr>\n",
       "      <th>12</th>\n",
       "      <td>ashish</td>\n",
       "      <td>Spatula</td>\n",
       "      <td>12345</td>\n",
       "      <td>1.0</td>\n",
       "    </tr>\n",
       "    <tr>\n",
       "      <th>13</th>\n",
       "      <td>ashish</td>\n",
       "      <td>Pressure Cooker</td>\n",
       "      <td>8764</td>\n",
       "      <td>2.0</td>\n",
       "    </tr>\n",
       "    <tr>\n",
       "      <th>14</th>\n",
       "      <td>ashish</td>\n",
       "      <td>Spatula</td>\n",
       "      <td>12345</td>\n",
       "      <td>1.0</td>\n",
       "    </tr>\n",
       "    <tr>\n",
       "      <th>15</th>\n",
       "      <td>ashish</td>\n",
       "      <td>Pressure Cooker</td>\n",
       "      <td>8764</td>\n",
       "      <td>2.0</td>\n",
       "    </tr>\n",
       "    <tr>\n",
       "      <th>16</th>\n",
       "      <td>gov</td>\n",
       "      <td>NaN</td>\n",
       "      <td>NaN</td>\n",
       "      <td>NaN</td>\n",
       "    </tr>\n",
       "  </tbody>\n",
       "</table>\n",
       "</div>"
      ],
      "text/plain": [
       "        username products.product_name products.url_slug  products.product_id\n",
       "0                              Spatula             12345                  1.0\n",
       "1                      Pressure Cooker              8764                  2.0\n",
       "2                              Spatula             12345                  1.0\n",
       "3                      Pressure Cooker              8764                  2.0\n",
       "4                              Spatula             12345                  1.0\n",
       "5                      Pressure Cooker              8764                  2.0\n",
       "6   Ashish Thapa               Spatula             12345                  1.0\n",
       "7   Ashish Thapa       Pressure Cooker              8764                  2.0\n",
       "8   Ashish Thapa               Spatula             12345                  1.0\n",
       "9   Ashish Thapa       Pressure Cooker              8764                  2.0\n",
       "10        ashish               Spatula             12345                  1.0\n",
       "11        ashish       Pressure Cooker              8764                  2.0\n",
       "12        ashish               Spatula             12345                  1.0\n",
       "13        ashish       Pressure Cooker              8764                  2.0\n",
       "14        ashish               Spatula             12345                  1.0\n",
       "15        ashish       Pressure Cooker              8764                  2.0\n",
       "16           gov                   NaN               NaN                  NaN"
      ]
     },
     "execution_count": 84,
     "metadata": {},
     "output_type": "execute_result"
    }
   ],
   "source": [
    "df_flat = df_flat.drop(columns=['products'])\n",
    "df_flat"
   ]
  },
  {
   "cell_type": "code",
   "execution_count": 85,
   "id": "06cd4825",
   "metadata": {},
   "outputs": [
    {
     "data": {
      "text/html": [
       "<div>\n",
       "<style scoped>\n",
       "    .dataframe tbody tr th:only-of-type {\n",
       "        vertical-align: middle;\n",
       "    }\n",
       "\n",
       "    .dataframe tbody tr th {\n",
       "        vertical-align: top;\n",
       "    }\n",
       "\n",
       "    .dataframe thead th {\n",
       "        text-align: right;\n",
       "    }\n",
       "</style>\n",
       "<table border=\"1\" class=\"dataframe\">\n",
       "  <thead>\n",
       "    <tr style=\"text-align: right;\">\n",
       "      <th></th>\n",
       "      <th>username</th>\n",
       "      <th>product_name</th>\n",
       "      <th>url_slug</th>\n",
       "      <th>product_id</th>\n",
       "    </tr>\n",
       "  </thead>\n",
       "  <tbody>\n",
       "    <tr>\n",
       "      <th>0</th>\n",
       "      <td></td>\n",
       "      <td>Spatula</td>\n",
       "      <td>12345</td>\n",
       "      <td>1.0</td>\n",
       "    </tr>\n",
       "    <tr>\n",
       "      <th>1</th>\n",
       "      <td></td>\n",
       "      <td>Pressure Cooker</td>\n",
       "      <td>8764</td>\n",
       "      <td>2.0</td>\n",
       "    </tr>\n",
       "    <tr>\n",
       "      <th>2</th>\n",
       "      <td></td>\n",
       "      <td>Spatula</td>\n",
       "      <td>12345</td>\n",
       "      <td>1.0</td>\n",
       "    </tr>\n",
       "    <tr>\n",
       "      <th>3</th>\n",
       "      <td></td>\n",
       "      <td>Pressure Cooker</td>\n",
       "      <td>8764</td>\n",
       "      <td>2.0</td>\n",
       "    </tr>\n",
       "    <tr>\n",
       "      <th>4</th>\n",
       "      <td></td>\n",
       "      <td>Spatula</td>\n",
       "      <td>12345</td>\n",
       "      <td>1.0</td>\n",
       "    </tr>\n",
       "    <tr>\n",
       "      <th>5</th>\n",
       "      <td></td>\n",
       "      <td>Pressure Cooker</td>\n",
       "      <td>8764</td>\n",
       "      <td>2.0</td>\n",
       "    </tr>\n",
       "    <tr>\n",
       "      <th>6</th>\n",
       "      <td>Ashish Thapa</td>\n",
       "      <td>Spatula</td>\n",
       "      <td>12345</td>\n",
       "      <td>1.0</td>\n",
       "    </tr>\n",
       "    <tr>\n",
       "      <th>7</th>\n",
       "      <td>Ashish Thapa</td>\n",
       "      <td>Pressure Cooker</td>\n",
       "      <td>8764</td>\n",
       "      <td>2.0</td>\n",
       "    </tr>\n",
       "    <tr>\n",
       "      <th>8</th>\n",
       "      <td>Ashish Thapa</td>\n",
       "      <td>Spatula</td>\n",
       "      <td>12345</td>\n",
       "      <td>1.0</td>\n",
       "    </tr>\n",
       "    <tr>\n",
       "      <th>9</th>\n",
       "      <td>Ashish Thapa</td>\n",
       "      <td>Pressure Cooker</td>\n",
       "      <td>8764</td>\n",
       "      <td>2.0</td>\n",
       "    </tr>\n",
       "    <tr>\n",
       "      <th>10</th>\n",
       "      <td>ashish</td>\n",
       "      <td>Spatula</td>\n",
       "      <td>12345</td>\n",
       "      <td>1.0</td>\n",
       "    </tr>\n",
       "    <tr>\n",
       "      <th>11</th>\n",
       "      <td>ashish</td>\n",
       "      <td>Pressure Cooker</td>\n",
       "      <td>8764</td>\n",
       "      <td>2.0</td>\n",
       "    </tr>\n",
       "    <tr>\n",
       "      <th>12</th>\n",
       "      <td>ashish</td>\n",
       "      <td>Spatula</td>\n",
       "      <td>12345</td>\n",
       "      <td>1.0</td>\n",
       "    </tr>\n",
       "    <tr>\n",
       "      <th>13</th>\n",
       "      <td>ashish</td>\n",
       "      <td>Pressure Cooker</td>\n",
       "      <td>8764</td>\n",
       "      <td>2.0</td>\n",
       "    </tr>\n",
       "    <tr>\n",
       "      <th>14</th>\n",
       "      <td>ashish</td>\n",
       "      <td>Spatula</td>\n",
       "      <td>12345</td>\n",
       "      <td>1.0</td>\n",
       "    </tr>\n",
       "    <tr>\n",
       "      <th>15</th>\n",
       "      <td>ashish</td>\n",
       "      <td>Pressure Cooker</td>\n",
       "      <td>8764</td>\n",
       "      <td>2.0</td>\n",
       "    </tr>\n",
       "    <tr>\n",
       "      <th>16</th>\n",
       "      <td>gov</td>\n",
       "      <td>NaN</td>\n",
       "      <td>NaN</td>\n",
       "      <td>NaN</td>\n",
       "    </tr>\n",
       "  </tbody>\n",
       "</table>\n",
       "</div>"
      ],
      "text/plain": [
       "        username     product_name url_slug  product_id\n",
       "0                         Spatula    12345         1.0\n",
       "1                 Pressure Cooker     8764         2.0\n",
       "2                         Spatula    12345         1.0\n",
       "3                 Pressure Cooker     8764         2.0\n",
       "4                         Spatula    12345         1.0\n",
       "5                 Pressure Cooker     8764         2.0\n",
       "6   Ashish Thapa          Spatula    12345         1.0\n",
       "7   Ashish Thapa  Pressure Cooker     8764         2.0\n",
       "8   Ashish Thapa          Spatula    12345         1.0\n",
       "9   Ashish Thapa  Pressure Cooker     8764         2.0\n",
       "10        ashish          Spatula    12345         1.0\n",
       "11        ashish  Pressure Cooker     8764         2.0\n",
       "12        ashish          Spatula    12345         1.0\n",
       "13        ashish  Pressure Cooker     8764         2.0\n",
       "14        ashish          Spatula    12345         1.0\n",
       "15        ashish  Pressure Cooker     8764         2.0\n",
       "16           gov              NaN      NaN         NaN"
      ]
     },
     "execution_count": 85,
     "metadata": {},
     "output_type": "execute_result"
    }
   ],
   "source": [
    "df_flat = df_flat.rename(columns={'products.product_name' : 'product_name', 'products.url_slug' : 'url_slug', 'products.product_id' : 'product_id'})\n",
    "df_flat"
   ]
  },
  {
   "cell_type": "code",
   "execution_count": 87,
   "id": "23ce4355",
   "metadata": {},
   "outputs": [
    {
     "data": {
      "text/html": [
       "<div>\n",
       "<style scoped>\n",
       "    .dataframe tbody tr th:only-of-type {\n",
       "        vertical-align: middle;\n",
       "    }\n",
       "\n",
       "    .dataframe tbody tr th {\n",
       "        vertical-align: top;\n",
       "    }\n",
       "\n",
       "    .dataframe thead th {\n",
       "        text-align: right;\n",
       "    }\n",
       "</style>\n",
       "<table border=\"1\" class=\"dataframe\">\n",
       "  <thead>\n",
       "    <tr style=\"text-align: right;\">\n",
       "      <th></th>\n",
       "      <th>username</th>\n",
       "      <th>product_name</th>\n",
       "      <th>url_slug</th>\n",
       "      <th>product_id</th>\n",
       "    </tr>\n",
       "  </thead>\n",
       "  <tbody>\n",
       "    <tr>\n",
       "      <th>0</th>\n",
       "      <td></td>\n",
       "      <td>Spatula</td>\n",
       "      <td>12345</td>\n",
       "      <td>1.0</td>\n",
       "    </tr>\n",
       "    <tr>\n",
       "      <th>1</th>\n",
       "      <td></td>\n",
       "      <td>Pressure Cooker</td>\n",
       "      <td>8764</td>\n",
       "      <td>2.0</td>\n",
       "    </tr>\n",
       "    <tr>\n",
       "      <th>2</th>\n",
       "      <td></td>\n",
       "      <td>Spatula</td>\n",
       "      <td>12345</td>\n",
       "      <td>1.0</td>\n",
       "    </tr>\n",
       "    <tr>\n",
       "      <th>3</th>\n",
       "      <td></td>\n",
       "      <td>Pressure Cooker</td>\n",
       "      <td>8764</td>\n",
       "      <td>2.0</td>\n",
       "    </tr>\n",
       "    <tr>\n",
       "      <th>4</th>\n",
       "      <td></td>\n",
       "      <td>Spatula</td>\n",
       "      <td>12345</td>\n",
       "      <td>1.0</td>\n",
       "    </tr>\n",
       "    <tr>\n",
       "      <th>5</th>\n",
       "      <td></td>\n",
       "      <td>Pressure Cooker</td>\n",
       "      <td>8764</td>\n",
       "      <td>2.0</td>\n",
       "    </tr>\n",
       "    <tr>\n",
       "      <th>6</th>\n",
       "      <td>Ashish Thapa</td>\n",
       "      <td>Spatula</td>\n",
       "      <td>12345</td>\n",
       "      <td>1.0</td>\n",
       "    </tr>\n",
       "    <tr>\n",
       "      <th>7</th>\n",
       "      <td>Ashish Thapa</td>\n",
       "      <td>Pressure Cooker</td>\n",
       "      <td>8764</td>\n",
       "      <td>2.0</td>\n",
       "    </tr>\n",
       "    <tr>\n",
       "      <th>8</th>\n",
       "      <td>Ashish Thapa</td>\n",
       "      <td>Spatula</td>\n",
       "      <td>12345</td>\n",
       "      <td>1.0</td>\n",
       "    </tr>\n",
       "    <tr>\n",
       "      <th>9</th>\n",
       "      <td>Ashish Thapa</td>\n",
       "      <td>Pressure Cooker</td>\n",
       "      <td>8764</td>\n",
       "      <td>2.0</td>\n",
       "    </tr>\n",
       "    <tr>\n",
       "      <th>10</th>\n",
       "      <td>ashish</td>\n",
       "      <td>Spatula</td>\n",
       "      <td>12345</td>\n",
       "      <td>1.0</td>\n",
       "    </tr>\n",
       "    <tr>\n",
       "      <th>11</th>\n",
       "      <td>ashish</td>\n",
       "      <td>Pressure Cooker</td>\n",
       "      <td>8764</td>\n",
       "      <td>2.0</td>\n",
       "    </tr>\n",
       "    <tr>\n",
       "      <th>12</th>\n",
       "      <td>ashish</td>\n",
       "      <td>Spatula</td>\n",
       "      <td>12345</td>\n",
       "      <td>1.0</td>\n",
       "    </tr>\n",
       "    <tr>\n",
       "      <th>13</th>\n",
       "      <td>ashish</td>\n",
       "      <td>Pressure Cooker</td>\n",
       "      <td>8764</td>\n",
       "      <td>2.0</td>\n",
       "    </tr>\n",
       "    <tr>\n",
       "      <th>14</th>\n",
       "      <td>ashish</td>\n",
       "      <td>Spatula</td>\n",
       "      <td>12345</td>\n",
       "      <td>1.0</td>\n",
       "    </tr>\n",
       "    <tr>\n",
       "      <th>15</th>\n",
       "      <td>ashish</td>\n",
       "      <td>Pressure Cooker</td>\n",
       "      <td>8764</td>\n",
       "      <td>2.0</td>\n",
       "    </tr>\n",
       "  </tbody>\n",
       "</table>\n",
       "</div>"
      ],
      "text/plain": [
       "        username     product_name url_slug  product_id\n",
       "0                         Spatula    12345         1.0\n",
       "1                 Pressure Cooker     8764         2.0\n",
       "2                         Spatula    12345         1.0\n",
       "3                 Pressure Cooker     8764         2.0\n",
       "4                         Spatula    12345         1.0\n",
       "5                 Pressure Cooker     8764         2.0\n",
       "6   Ashish Thapa          Spatula    12345         1.0\n",
       "7   Ashish Thapa  Pressure Cooker     8764         2.0\n",
       "8   Ashish Thapa          Spatula    12345         1.0\n",
       "9   Ashish Thapa  Pressure Cooker     8764         2.0\n",
       "10        ashish          Spatula    12345         1.0\n",
       "11        ashish  Pressure Cooker     8764         2.0\n",
       "12        ashish          Spatula    12345         1.0\n",
       "13        ashish  Pressure Cooker     8764         2.0\n",
       "14        ashish          Spatula    12345         1.0\n",
       "15        ashish  Pressure Cooker     8764         2.0"
      ]
     },
     "execution_count": 87,
     "metadata": {},
     "output_type": "execute_result"
    }
   ],
   "source": [
    "df_flat = df_flat[df_flat['product_id'].notna()]\n",
    "df_flat"
   ]
  },
  {
   "cell_type": "code",
   "execution_count": 96,
   "id": "f38b7374",
   "metadata": {},
   "outputs": [],
   "source": [
    "df_flat['product_name'] = df_flat['product_name'].astype(str)\n",
    "df_flat['username'] = df_flat['username'].astype(str)"
   ]
  },
  {
   "cell_type": "code",
   "execution_count": 97,
   "id": "b182c285",
   "metadata": {},
   "outputs": [
    {
     "data": {
      "text/plain": [
       "['', 'Ashish Thapa', 'ashish']"
      ]
     },
     "execution_count": 97,
     "metadata": {},
     "output_type": "execute_result"
    }
   ],
   "source": [
    "customers = df_flat['username'].unique().tolist()\n",
    "customers"
   ]
  },
  {
   "cell_type": "code",
   "execution_count": 98,
   "id": "4d78a3dc",
   "metadata": {},
   "outputs": [
    {
     "data": {
      "text/plain": [
       "['Ashish Thapa', 'ashish', '']"
      ]
     },
     "execution_count": 98,
     "metadata": {},
     "output_type": "execute_result"
    }
   ],
   "source": [
    "random.shuffle(customers)\n",
    "c_train = [customers[i] for i in range(round(0.9*len(customers)))]\n",
    "c_train"
   ]
  },
  {
   "cell_type": "code",
   "execution_count": 99,
   "id": "9f1d97f6",
   "metadata": {},
   "outputs": [
    {
     "name": "stderr",
     "output_type": "stream",
     "text": [
      "C:\\Users\\ASUS\\anaconda3\\envs\\tensor_gpu\\lib\\site-packages\\ipykernel_launcher.py:2: UserWarning: Boolean Series key will be reindexed to match DataFrame index.\n",
      "  \n"
     ]
    }
   ],
   "source": [
    "train_df = df_flat[df_flat['username'].isin(c_train)]\n",
    "validation_df = df[~df_flat['username'].isin(c_train)]"
   ]
  },
  {
   "cell_type": "code",
   "execution_count": 100,
   "id": "78977700",
   "metadata": {},
   "outputs": [
    {
     "data": {
      "text/plain": [
       "['Spatula', 'Pressure Cooker', 'Spatula', 'Pressure Cooker']"
      ]
     },
     "execution_count": 100,
     "metadata": {},
     "output_type": "execute_result"
    }
   ],
   "source": [
    "train_df[train_df[\"username\"] == 'Ashish Thapa'][\"product_name\"].tolist()"
   ]
  },
  {
   "cell_type": "code",
   "execution_count": 101,
   "id": "6722692f",
   "metadata": {},
   "outputs": [
    {
     "name": "stderr",
     "output_type": "stream",
     "text": [
      "100%|██████████| 3/3 [00:00<00:00, 499.86it/s]\n"
     ]
    }
   ],
   "source": [
    "# list to capture purchase history of the customers\n",
    "p_train = []\n",
    "\n",
    "# populate the list with the product codes\n",
    "for i in tqdm(c_train):\n",
    "    temp = train_df[train_df[\"username\"] == i][\"product_name\"].tolist()\n",
    "    p_train.append(temp)"
   ]
  },
  {
   "cell_type": "code",
   "execution_count": 102,
   "id": "782d2c5d",
   "metadata": {},
   "outputs": [
    {
     "data": {
      "text/plain": [
       "[['Spatula', 'Pressure Cooker', 'Spatula', 'Pressure Cooker'],\n",
       " ['Spatula',\n",
       "  'Pressure Cooker',\n",
       "  'Spatula',\n",
       "  'Pressure Cooker',\n",
       "  'Spatula',\n",
       "  'Pressure Cooker'],\n",
       " ['Spatula',\n",
       "  'Pressure Cooker',\n",
       "  'Spatula',\n",
       "  'Pressure Cooker',\n",
       "  'Spatula',\n",
       "  'Pressure Cooker']]"
      ]
     },
     "execution_count": 102,
     "metadata": {},
     "output_type": "execute_result"
    }
   ],
   "source": [
    "p_train"
   ]
  },
  {
   "cell_type": "code",
   "execution_count": 103,
   "id": "5ea92965",
   "metadata": {},
   "outputs": [
    {
     "name": "stderr",
     "output_type": "stream",
     "text": [
      "0it [00:00, ?it/s]\n"
     ]
    }
   ],
   "source": [
    "# list to capture purchase history of the customers\n",
    "p_val = []\n",
    "\n",
    "# populate the list with the product codes\n",
    "for i in tqdm(validation_df['username'].unique()):\n",
    "    temp = validation_df[validation_df[\"username\"] == i][\"product_name\"].tolist()\n",
    "    p_val.append(temp)"
   ]
  },
  {
   "cell_type": "code",
   "execution_count": 104,
   "id": "33dcd6c1",
   "metadata": {},
   "outputs": [
    {
     "data": {
      "text/plain": [
       "[]"
      ]
     },
     "execution_count": 104,
     "metadata": {},
     "output_type": "execute_result"
    }
   ],
   "source": [
    "p_val"
   ]
  },
  {
   "cell_type": "code",
   "execution_count": 105,
   "id": "afb72b48",
   "metadata": {},
   "outputs": [],
   "source": [
    "model = Word2Vec(window = 3, min_count=1)"
   ]
  },
  {
   "cell_type": "code",
   "execution_count": 106,
   "id": "33b3f8f7",
   "metadata": {},
   "outputs": [],
   "source": [
    "model.build_vocab(p_train, progress_per=200)"
   ]
  },
  {
   "cell_type": "code",
   "execution_count": 107,
   "id": "b59dabe3",
   "metadata": {},
   "outputs": [
    {
     "data": {
      "text/plain": [
       "3"
      ]
     },
     "execution_count": 107,
     "metadata": {},
     "output_type": "execute_result"
    }
   ],
   "source": [
    "model.corpus_count "
   ]
  },
  {
   "cell_type": "code",
   "execution_count": 108,
   "id": "0d50e29f",
   "metadata": {},
   "outputs": [
    {
     "data": {
      "text/plain": [
       "(10, 160)"
      ]
     },
     "execution_count": 108,
     "metadata": {},
     "output_type": "execute_result"
    }
   ],
   "source": [
    "model.train(p_train, total_examples = model.corpus_count, \n",
    "            epochs=10)"
   ]
  },
  {
   "cell_type": "code",
   "execution_count": 109,
   "id": "8608def1",
   "metadata": {},
   "outputs": [],
   "source": [
    "model.save(\"./dummy_model.model\")"
   ]
  },
  {
   "cell_type": "code",
   "execution_count": 110,
   "id": "7fa7e704",
   "metadata": {},
   "outputs": [
    {
     "name": "stdout",
     "output_type": "stream",
     "text": [
      "Word2Vec(vocab=2, size=100, alpha=0.025)\n"
     ]
    }
   ],
   "source": [
    "print(model)"
   ]
  },
  {
   "cell_type": "code",
   "execution_count": 111,
   "id": "635f3b1b",
   "metadata": {},
   "outputs": [],
   "source": [
    "model.init_sims(replace=True) # This makes model more memory efficient"
   ]
  },
  {
   "cell_type": "code",
   "execution_count": 112,
   "id": "8998e4b5",
   "metadata": {},
   "outputs": [],
   "source": [
    "model.save(\"./dummy_model_lite.model\")"
   ]
  },
  {
   "cell_type": "code",
   "execution_count": 113,
   "id": "eae6b080",
   "metadata": {},
   "outputs": [
    {
     "name": "stderr",
     "output_type": "stream",
     "text": [
      "C:\\Users\\ASUS\\anaconda3\\envs\\tensor_gpu\\lib\\site-packages\\ipykernel_launcher.py:2: DeprecationWarning: Call to deprecated `__getitem__` (Method will be removed in 4.0.0, use self.wv.__getitem__() instead).\n",
      "  \n"
     ]
    },
    {
     "data": {
      "text/plain": [
       "(2, 100)"
      ]
     },
     "execution_count": 113,
     "metadata": {},
     "output_type": "execute_result"
    }
   ],
   "source": [
    "# extract all vectors\n",
    "X = model[model.wv.vocab]\n",
    "\n",
    "X.shape"
   ]
  },
  {
   "cell_type": "code",
   "execution_count": 114,
   "id": "5a88b89f",
   "metadata": {},
   "outputs": [
    {
     "data": {
      "text/plain": [
       "array([[ 2.39419229e-02,  9.86087993e-02,  1.42990306e-01,\n",
       "         1.10313162e-01,  1.53448237e-02,  1.38552919e-01,\n",
       "         5.07409945e-02,  1.52343735e-01,  1.41851723e-01,\n",
       "        -1.05352402e-01, -3.06295492e-02, -1.11891553e-01,\n",
       "        -9.87740681e-02,  5.66893555e-02,  2.01540757e-02,\n",
       "        -9.39587653e-02,  4.70193028e-02, -1.53357029e-01,\n",
       "        -1.36052147e-01, -1.25279456e-01,  1.30566582e-01,\n",
       "         3.82703776e-03, -7.70861506e-02, -9.64472443e-02,\n",
       "         8.45440179e-02, -1.76940612e-05,  1.21647529e-01,\n",
       "        -8.56238306e-02,  3.41568664e-02,  5.95993735e-02,\n",
       "         1.41658500e-01, -1.43062368e-01, -5.93961105e-02,\n",
       "         3.36717740e-02,  1.16685510e-01,  1.12008534e-01,\n",
       "         7.72208869e-02, -5.61011434e-02, -3.55591327e-02,\n",
       "         5.20241931e-02, -4.15824093e-02,  1.61858499e-01,\n",
       "         1.64444700e-01,  7.10698403e-03, -1.59871534e-01,\n",
       "         4.17597033e-02, -7.98150711e-03,  7.61991292e-02,\n",
       "        -1.65280133e-01,  1.35366499e-01,  1.15129881e-01,\n",
       "        -2.04937868e-02, -1.57953888e-01,  4.31568660e-02,\n",
       "        -1.34301230e-01, -6.24859892e-02,  1.06120579e-01,\n",
       "         9.98337045e-02,  1.66205481e-01,  1.22906044e-01,\n",
       "         1.01760715e-01,  1.27016917e-01, -1.46629959e-01,\n",
       "        -3.72149050e-02,  4.98025306e-02, -6.36090785e-02,\n",
       "         6.29732907e-02, -5.72716035e-02, -2.18223203e-02,\n",
       "        -1.11685917e-01, -1.61766350e-01,  6.18774146e-02,\n",
       "         9.10178479e-03,  1.26731336e-01,  2.03540381e-02,\n",
       "         1.23920493e-01,  1.52870029e-01, -2.74858009e-02,\n",
       "         3.41415629e-02, -1.10354617e-01,  4.86515276e-02,\n",
       "         5.29969819e-02, -1.45644918e-01,  7.76559934e-02,\n",
       "        -1.29238233e-01,  1.41614050e-01,  8.01280886e-02,\n",
       "         1.66140631e-01,  1.34191766e-01,  1.13484636e-01,\n",
       "         6.08878545e-02, -1.79357622e-02,  5.14192646e-03,\n",
       "        -7.48690441e-02, -2.74433978e-02,  2.41065323e-02,\n",
       "        -9.75353271e-03,  1.50261015e-01, -1.25281453e-01,\n",
       "        -1.23157509e-01],\n",
       "       [-1.65412366e-01, -1.46949276e-01,  1.16685055e-01,\n",
       "         1.09907255e-01, -1.13648623e-01,  3.76292388e-03,\n",
       "         7.67343789e-02,  1.17162496e-01, -1.32510602e-01,\n",
       "         7.43797645e-02, -1.48925732e-03,  7.36431107e-02,\n",
       "         1.32093579e-01, -5.28593622e-02,  3.86849716e-02,\n",
       "        -1.97192267e-01, -1.69701815e-01,  1.27417013e-01,\n",
       "        -1.54094025e-01,  1.24845318e-02,  2.87705120e-02,\n",
       "        -1.92200959e-01, -1.34742521e-02, -1.15475751e-01,\n",
       "        -1.70635089e-01,  1.18021376e-01,  1.83680281e-01,\n",
       "         1.12293258e-01, -1.68270111e-01, -2.20949315e-02,\n",
       "         1.52840450e-01,  5.46610430e-02, -6.03045821e-02,\n",
       "         4.45602499e-02,  8.05422962e-02, -7.07688332e-02,\n",
       "         9.42522958e-02,  1.62533566e-01,  1.45831794e-01,\n",
       "        -8.08959827e-02,  3.57468426e-02,  4.02801000e-02,\n",
       "        -9.65273604e-02, -1.62030488e-01,  2.25478467e-02,\n",
       "         7.60756619e-03, -1.43036485e-01, -9.12375003e-03,\n",
       "        -1.89656913e-02,  5.74130751e-02,  4.83308397e-02,\n",
       "         1.16087601e-01, -3.24234553e-03, -2.03791298e-02,\n",
       "         4.08903249e-02,  7.62316138e-02, -7.75139555e-02,\n",
       "        -4.33678329e-02, -3.13401446e-02,  4.73440774e-02,\n",
       "        -1.29396677e-01, -1.66572127e-02,  4.22286093e-02,\n",
       "         8.68223906e-02,  1.25955686e-01,  3.77625488e-02,\n",
       "         1.06373601e-01, -1.14316419e-01,  7.15648457e-02,\n",
       "        -8.46484900e-02,  5.38370535e-02,  9.62859914e-02,\n",
       "         1.86914485e-02,  1.31544098e-01, -1.94452628e-01,\n",
       "        -1.89448103e-01, -1.85703233e-01, -1.11034170e-01,\n",
       "         1.27915874e-01,  8.74091499e-03, -8.76736082e-03,\n",
       "        -1.39467239e-01,  4.61098775e-02, -1.67694256e-01,\n",
       "        -1.88624319e-02,  1.79478545e-02,  4.24394906e-02,\n",
       "        -8.44094232e-02, -2.77022757e-02, -7.79607370e-02,\n",
       "        -5.27804084e-02, -3.45420763e-02, -7.82305300e-02,\n",
       "        -5.18803149e-02,  4.84665893e-02,  6.34371415e-02,\n",
       "        -1.21733055e-01,  5.77546433e-02, -4.98938933e-02,\n",
       "        -8.65124613e-02]], dtype=float32)"
      ]
     },
     "execution_count": 114,
     "metadata": {},
     "output_type": "execute_result"
    }
   ],
   "source": [
    "X"
   ]
  },
  {
   "cell_type": "code",
   "execution_count": 115,
   "id": "ccd2c5dc",
   "metadata": {},
   "outputs": [
    {
     "data": {
      "text/html": [
       "<div>\n",
       "<style scoped>\n",
       "    .dataframe tbody tr th:only-of-type {\n",
       "        vertical-align: middle;\n",
       "    }\n",
       "\n",
       "    .dataframe tbody tr th {\n",
       "        vertical-align: top;\n",
       "    }\n",
       "\n",
       "    .dataframe thead th {\n",
       "        text-align: right;\n",
       "    }\n",
       "</style>\n",
       "<table border=\"1\" class=\"dataframe\">\n",
       "  <thead>\n",
       "    <tr style=\"text-align: right;\">\n",
       "      <th></th>\n",
       "      <th>product_name</th>\n",
       "      <th>product_id</th>\n",
       "    </tr>\n",
       "  </thead>\n",
       "  <tbody>\n",
       "    <tr>\n",
       "      <th>0</th>\n",
       "      <td>Spatula</td>\n",
       "      <td>1.0</td>\n",
       "    </tr>\n",
       "    <tr>\n",
       "      <th>1</th>\n",
       "      <td>Pressure Cooker</td>\n",
       "      <td>2.0</td>\n",
       "    </tr>\n",
       "    <tr>\n",
       "      <th>2</th>\n",
       "      <td>Spatula</td>\n",
       "      <td>1.0</td>\n",
       "    </tr>\n",
       "    <tr>\n",
       "      <th>3</th>\n",
       "      <td>Pressure Cooker</td>\n",
       "      <td>2.0</td>\n",
       "    </tr>\n",
       "    <tr>\n",
       "      <th>4</th>\n",
       "      <td>Spatula</td>\n",
       "      <td>1.0</td>\n",
       "    </tr>\n",
       "    <tr>\n",
       "      <th>5</th>\n",
       "      <td>Pressure Cooker</td>\n",
       "      <td>2.0</td>\n",
       "    </tr>\n",
       "    <tr>\n",
       "      <th>6</th>\n",
       "      <td>Spatula</td>\n",
       "      <td>1.0</td>\n",
       "    </tr>\n",
       "    <tr>\n",
       "      <th>7</th>\n",
       "      <td>Pressure Cooker</td>\n",
       "      <td>2.0</td>\n",
       "    </tr>\n",
       "    <tr>\n",
       "      <th>8</th>\n",
       "      <td>Spatula</td>\n",
       "      <td>1.0</td>\n",
       "    </tr>\n",
       "    <tr>\n",
       "      <th>9</th>\n",
       "      <td>Pressure Cooker</td>\n",
       "      <td>2.0</td>\n",
       "    </tr>\n",
       "    <tr>\n",
       "      <th>10</th>\n",
       "      <td>Spatula</td>\n",
       "      <td>1.0</td>\n",
       "    </tr>\n",
       "    <tr>\n",
       "      <th>11</th>\n",
       "      <td>Pressure Cooker</td>\n",
       "      <td>2.0</td>\n",
       "    </tr>\n",
       "    <tr>\n",
       "      <th>12</th>\n",
       "      <td>Spatula</td>\n",
       "      <td>1.0</td>\n",
       "    </tr>\n",
       "    <tr>\n",
       "      <th>13</th>\n",
       "      <td>Pressure Cooker</td>\n",
       "      <td>2.0</td>\n",
       "    </tr>\n",
       "    <tr>\n",
       "      <th>14</th>\n",
       "      <td>Spatula</td>\n",
       "      <td>1.0</td>\n",
       "    </tr>\n",
       "    <tr>\n",
       "      <th>15</th>\n",
       "      <td>Pressure Cooker</td>\n",
       "      <td>2.0</td>\n",
       "    </tr>\n",
       "  </tbody>\n",
       "</table>\n",
       "</div>"
      ],
      "text/plain": [
       "       product_name  product_id\n",
       "0           Spatula         1.0\n",
       "1   Pressure Cooker         2.0\n",
       "2           Spatula         1.0\n",
       "3   Pressure Cooker         2.0\n",
       "4           Spatula         1.0\n",
       "5   Pressure Cooker         2.0\n",
       "6           Spatula         1.0\n",
       "7   Pressure Cooker         2.0\n",
       "8           Spatula         1.0\n",
       "9   Pressure Cooker         2.0\n",
       "10          Spatula         1.0\n",
       "11  Pressure Cooker         2.0\n",
       "12          Spatula         1.0\n",
       "13  Pressure Cooker         2.0\n",
       "14          Spatula         1.0\n",
       "15  Pressure Cooker         2.0"
      ]
     },
     "execution_count": 115,
     "metadata": {},
     "output_type": "execute_result"
    }
   ],
   "source": [
    "products = train_df[[\"product_name\", \"product_id\"]]\n",
    "products"
   ]
  },
  {
   "cell_type": "code",
   "execution_count": 116,
   "id": "3628ef71",
   "metadata": {},
   "outputs": [
    {
     "name": "stderr",
     "output_type": "stream",
     "text": [
      "C:\\Users\\ASUS\\anaconda3\\envs\\tensor_gpu\\lib\\site-packages\\pandas\\util\\_decorators.py:311: SettingWithCopyWarning: \n",
      "A value is trying to be set on a copy of a slice from a DataFrame\n",
      "\n",
      "See the caveats in the documentation: https://pandas.pydata.org/pandas-docs/stable/user_guide/indexing.html#returning-a-view-versus-a-copy\n",
      "  return func(*args, **kwargs)\n"
     ]
    },
    {
     "data": {
      "text/html": [
       "<div>\n",
       "<style scoped>\n",
       "    .dataframe tbody tr th:only-of-type {\n",
       "        vertical-align: middle;\n",
       "    }\n",
       "\n",
       "    .dataframe tbody tr th {\n",
       "        vertical-align: top;\n",
       "    }\n",
       "\n",
       "    .dataframe thead th {\n",
       "        text-align: right;\n",
       "    }\n",
       "</style>\n",
       "<table border=\"1\" class=\"dataframe\">\n",
       "  <thead>\n",
       "    <tr style=\"text-align: right;\">\n",
       "      <th></th>\n",
       "      <th>product_name</th>\n",
       "      <th>product_id</th>\n",
       "    </tr>\n",
       "  </thead>\n",
       "  <tbody>\n",
       "    <tr>\n",
       "      <th>0</th>\n",
       "      <td>Spatula</td>\n",
       "      <td>1.0</td>\n",
       "    </tr>\n",
       "    <tr>\n",
       "      <th>1</th>\n",
       "      <td>Pressure Cooker</td>\n",
       "      <td>2.0</td>\n",
       "    </tr>\n",
       "  </tbody>\n",
       "</table>\n",
       "</div>"
      ],
      "text/plain": [
       "      product_name  product_id\n",
       "0          Spatula         1.0\n",
       "1  Pressure Cooker         2.0"
      ]
     },
     "execution_count": 116,
     "metadata": {},
     "output_type": "execute_result"
    }
   ],
   "source": [
    "# remove duplicates\n",
    "products.drop_duplicates(inplace=True)\n",
    "products.head(50)"
   ]
  },
  {
   "cell_type": "code",
   "execution_count": 126,
   "id": "1db1bde1",
   "metadata": {},
   "outputs": [],
   "source": [
    "products_dict = products.groupby('product_name')['product_name'].apply(list).to_dict()"
   ]
  },
  {
   "cell_type": "code",
   "execution_count": 127,
   "id": "08ac49f6",
   "metadata": {},
   "outputs": [],
   "source": [
    "def similar_products(v, n = 10):\n",
    "    \n",
    "    # extract most similar products for the input vector\n",
    "    ms = model.similar_by_vector(v, topn= n+1)[1:]\n",
    "    \n",
    "    # extract name and similarity score of the similar products\n",
    "    new_ms = []\n",
    "    for j in ms:\n",
    "        pair = (products_dict[j[0]][0], j[1])\n",
    "        new_ms.append(pair)\n",
    "        \n",
    "    return new_ms        "
   ]
  },
  {
   "cell_type": "code",
   "execution_count": 128,
   "id": "b2b4e812",
   "metadata": {},
   "outputs": [
    {
     "name": "stderr",
     "output_type": "stream",
     "text": [
      "C:\\Users\\ASUS\\anaconda3\\envs\\tensor_gpu\\lib\\site-packages\\ipykernel_launcher.py:1: DeprecationWarning: Call to deprecated `__getitem__` (Method will be removed in 4.0.0, use self.wv.__getitem__() instead).\n",
      "  \"\"\"Entry point for launching an IPython kernel.\n",
      "C:\\Users\\ASUS\\anaconda3\\envs\\tensor_gpu\\lib\\site-packages\\ipykernel_launcher.py:4: DeprecationWarning: Call to deprecated `similar_by_vector` (Method will be removed in 4.0.0, use self.wv.similar_by_vector() instead).\n",
      "  after removing the cwd from sys.path.\n"
     ]
    },
    {
     "data": {
      "text/plain": [
       "[('Pressure Cooker', -0.06941111385822296)]"
      ]
     },
     "execution_count": 128,
     "metadata": {},
     "output_type": "execute_result"
    }
   ],
   "source": [
    "similar_products(model['Spatula'])"
   ]
  },
  {
   "cell_type": "code",
   "execution_count": 129,
   "id": "db11424f",
   "metadata": {},
   "outputs": [],
   "source": [
    "def aggregate_vectors(products):\n",
    "    product_vec = []\n",
    "    for i in products:\n",
    "        try:\n",
    "            product_vec.append(model[i])\n",
    "        except KeyError:\n",
    "            continue\n",
    "        \n",
    "    return np.mean(product_vec, axis=0)"
   ]
  },
  {
   "cell_type": "code",
   "execution_count": 131,
   "id": "15a80990",
   "metadata": {},
   "outputs": [
    {
     "data": {
      "text/plain": [
       "[]"
      ]
     },
     "execution_count": 131,
     "metadata": {},
     "output_type": "execute_result"
    }
   ],
   "source": [
    "p_val"
   ]
  },
  {
   "cell_type": "code",
   "execution_count": 133,
   "id": "dcef119f",
   "metadata": {},
   "outputs": [
    {
     "name": "stderr",
     "output_type": "stream",
     "text": [
      "C:\\Users\\ASUS\\anaconda3\\envs\\tensor_gpu\\lib\\site-packages\\numpy\\core\\fromnumeric.py:3420: RuntimeWarning: Mean of empty slice.\n",
      "  out=out, **kwargs)\n",
      "C:\\Users\\ASUS\\anaconda3\\envs\\tensor_gpu\\lib\\site-packages\\numpy\\core\\_methods.py:188: RuntimeWarning: invalid value encountered in double_scalars\n",
      "  ret = ret.dtype.type(ret / rcount)\n"
     ]
    },
    {
     "data": {
      "text/plain": [
       "()"
      ]
     },
     "execution_count": 133,
     "metadata": {},
     "output_type": "execute_result"
    }
   ],
   "source": []
  },
  {
   "cell_type": "code",
   "execution_count": null,
   "id": "118fe4d6",
   "metadata": {},
   "outputs": [],
   "source": []
  }
 ],
 "metadata": {
  "kernelspec": {
   "display_name": "Python 3",
   "language": "python",
   "name": "python3"
  },
  "language_info": {
   "codemirror_mode": {
    "name": "ipython",
    "version": 3
   },
   "file_extension": ".py",
   "mimetype": "text/x-python",
   "name": "python",
   "nbconvert_exporter": "python",
   "pygments_lexer": "ipython3",
   "version": "3.7.11"
  }
 },
 "nbformat": 4,
 "nbformat_minor": 5
}
