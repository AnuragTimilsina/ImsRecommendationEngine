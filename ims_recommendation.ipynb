{
 "cells": [
  {
   "cell_type": "code",
   "execution_count": 1,
   "id": "2566c1f2",
   "metadata": {},
   "outputs": [],
   "source": [
    "# It is a quick stackoverflow fix to import gensim\n",
    "import smart_open \n",
    "smart_open.open = smart_open.smart_open"
   ]
  },
  {
   "cell_type": "code",
   "execution_count": 2,
   "id": "170d0f2c",
   "metadata": {},
   "outputs": [],
   "source": [
    "import pandas as pd\n",
    "import numpy as np \n",
    "import random \n",
    "from tqdm import tqdm\n",
    "from gensim.models import Word2Vec\n",
    "import matplotlib.pyplot as plt"
   ]
  },
  {
   "cell_type": "code",
   "execution_count": 3,
   "id": "02e7f04e",
   "metadata": {},
   "outputs": [
    {
     "data": {
      "text/plain": [
       "{'results': [{'username': '',\n",
       "   'id': 1,\n",
       "   'products': [{'product_name': 'Spatula',\n",
       "     'url_slug': '12345',\n",
       "     'product_id': 1},\n",
       "    {'product_name': 'Pressure Cooker', 'url_slug': '8764', 'product_id': 2},\n",
       "    {'product_name': 'Spatula', 'url_slug': '12345', 'product_id': 1},\n",
       "    {'product_name': 'Pressure Cooker', 'url_slug': '8764', 'product_id': 2},\n",
       "    {'product_name': 'Spatula', 'url_slug': '12345', 'product_id': 1},\n",
       "    {'product_name': 'Pressure Cooker', 'url_slug': '8764', 'product_id': 2}]},\n",
       "  {'username': 'Ashish Thapa',\n",
       "   'id': 2,\n",
       "   'products': [{'product_name': 'Spatula',\n",
       "     'url_slug': '12345',\n",
       "     'product_id': 1},\n",
       "    {'product_name': 'Pressure Cooker', 'url_slug': '8764', 'product_id': 2},\n",
       "    {'product_name': 'Spatula', 'url_slug': '12345', 'product_id': 1},\n",
       "    {'product_name': 'Pressure Cooker', 'url_slug': '8764', 'product_id': 2}]},\n",
       "  {'username': 'ashish',\n",
       "   'id': 4,\n",
       "   'products': [{'product_name': 'Spatula',\n",
       "     'url_slug': '12345',\n",
       "     'product_id': 1},\n",
       "    {'product_name': 'Pressure Cooker', 'url_slug': '8764', 'product_id': 2},\n",
       "    {'product_name': 'Spatula', 'url_slug': '12345', 'product_id': 1},\n",
       "    {'product_name': 'Pressure Cooker', 'url_slug': '8764', 'product_id': 2},\n",
       "    {'product_name': 'Spatula', 'url_slug': '12345', 'product_id': 1},\n",
       "    {'product_name': 'Pressure Cooker', 'url_slug': '8764', 'product_id': 2}]},\n",
       "  {'username': 'gov', 'id': 5, 'products': []}]}"
      ]
     },
     "execution_count": 3,
     "metadata": {},
     "output_type": "execute_result"
    }
   ],
   "source": [
    "import json\n",
    "\n",
    "with open('customer_dataset.json') as data_file:\n",
    "    data = json.load(data_file)\n",
    "data"
   ]
  },
  {
   "cell_type": "code",
   "execution_count": 4,
   "id": "08b29d82",
   "metadata": {},
   "outputs": [
    {
     "name": "stdout",
     "output_type": "stream",
     "text": [
      "[{'username': '', 'id': 1, 'products': [{'product_name': 'Spatula', 'url_slug': '12345', 'product_id': 1}, {'product_name': 'Pressure Cooker', 'url_slug': '8764', 'product_id': 2}, {'product_name': 'Spatula', 'url_slug': '12345', 'product_id': 1}, {'product_name': 'Pressure Cooker', 'url_slug': '8764', 'product_id': 2}, {'product_name': 'Spatula', 'url_slug': '12345', 'product_id': 1}, {'product_name': 'Pressure Cooker', 'url_slug': '8764', 'product_id': 2}]}, {'username': 'Ashish Thapa', 'id': 2, 'products': [{'product_name': 'Spatula', 'url_slug': '12345', 'product_id': 1}, {'product_name': 'Pressure Cooker', 'url_slug': '8764', 'product_id': 2}, {'product_name': 'Spatula', 'url_slug': '12345', 'product_id': 1}, {'product_name': 'Pressure Cooker', 'url_slug': '8764', 'product_id': 2}]}, {'username': 'ashish', 'id': 4, 'products': [{'product_name': 'Spatula', 'url_slug': '12345', 'product_id': 1}, {'product_name': 'Pressure Cooker', 'url_slug': '8764', 'product_id': 2}, {'product_name': 'Spatula', 'url_slug': '12345', 'product_id': 1}, {'product_name': 'Pressure Cooker', 'url_slug': '8764', 'product_id': 2}, {'product_name': 'Spatula', 'url_slug': '12345', 'product_id': 1}, {'product_name': 'Pressure Cooker', 'url_slug': '8764', 'product_id': 2}]}, {'username': 'gov', 'id': 5, 'products': []}]\n"
     ]
    }
   ],
   "source": [
    "purchase_list = []\n",
    "\n",
    "for i in data.items(): \n",
    "    print(i[1][:])\n",
    "    purchase_list.append(i[1][:])"
   ]
  },
  {
   "cell_type": "code",
   "execution_count": 5,
   "id": "c21251af",
   "metadata": {},
   "outputs": [
    {
     "data": {
      "text/plain": [
       "[[{'username': '',\n",
       "   'id': 1,\n",
       "   'products': [{'product_name': 'Spatula',\n",
       "     'url_slug': '12345',\n",
       "     'product_id': 1},\n",
       "    {'product_name': 'Pressure Cooker', 'url_slug': '8764', 'product_id': 2},\n",
       "    {'product_name': 'Spatula', 'url_slug': '12345', 'product_id': 1},\n",
       "    {'product_name': 'Pressure Cooker', 'url_slug': '8764', 'product_id': 2},\n",
       "    {'product_name': 'Spatula', 'url_slug': '12345', 'product_id': 1},\n",
       "    {'product_name': 'Pressure Cooker', 'url_slug': '8764', 'product_id': 2}]},\n",
       "  {'username': 'Ashish Thapa',\n",
       "   'id': 2,\n",
       "   'products': [{'product_name': 'Spatula',\n",
       "     'url_slug': '12345',\n",
       "     'product_id': 1},\n",
       "    {'product_name': 'Pressure Cooker', 'url_slug': '8764', 'product_id': 2},\n",
       "    {'product_name': 'Spatula', 'url_slug': '12345', 'product_id': 1},\n",
       "    {'product_name': 'Pressure Cooker', 'url_slug': '8764', 'product_id': 2}]},\n",
       "  {'username': 'ashish',\n",
       "   'id': 4,\n",
       "   'products': [{'product_name': 'Spatula',\n",
       "     'url_slug': '12345',\n",
       "     'product_id': 1},\n",
       "    {'product_name': 'Pressure Cooker', 'url_slug': '8764', 'product_id': 2},\n",
       "    {'product_name': 'Spatula', 'url_slug': '12345', 'product_id': 1},\n",
       "    {'product_name': 'Pressure Cooker', 'url_slug': '8764', 'product_id': 2},\n",
       "    {'product_name': 'Spatula', 'url_slug': '12345', 'product_id': 1},\n",
       "    {'product_name': 'Pressure Cooker', 'url_slug': '8764', 'product_id': 2}]},\n",
       "  {'username': 'gov', 'id': 5, 'products': []}]]"
      ]
     },
     "execution_count": 5,
     "metadata": {},
     "output_type": "execute_result"
    }
   ],
   "source": [
    "purchase_list"
   ]
  },
  {
   "cell_type": "code",
   "execution_count": 6,
   "id": "d19fd40d",
   "metadata": {},
   "outputs": [
    {
     "data": {
      "text/plain": [
       "[{'username': '',\n",
       "  'id': 1,\n",
       "  'products': [{'product_name': 'Spatula',\n",
       "    'url_slug': '12345',\n",
       "    'product_id': 1},\n",
       "   {'product_name': 'Pressure Cooker', 'url_slug': '8764', 'product_id': 2},\n",
       "   {'product_name': 'Spatula', 'url_slug': '12345', 'product_id': 1},\n",
       "   {'product_name': 'Pressure Cooker', 'url_slug': '8764', 'product_id': 2},\n",
       "   {'product_name': 'Spatula', 'url_slug': '12345', 'product_id': 1},\n",
       "   {'product_name': 'Pressure Cooker', 'url_slug': '8764', 'product_id': 2}]},\n",
       " {'username': 'Ashish Thapa',\n",
       "  'id': 2,\n",
       "  'products': [{'product_name': 'Spatula',\n",
       "    'url_slug': '12345',\n",
       "    'product_id': 1},\n",
       "   {'product_name': 'Pressure Cooker', 'url_slug': '8764', 'product_id': 2},\n",
       "   {'product_name': 'Spatula', 'url_slug': '12345', 'product_id': 1},\n",
       "   {'product_name': 'Pressure Cooker', 'url_slug': '8764', 'product_id': 2}]},\n",
       " {'username': 'ashish',\n",
       "  'id': 4,\n",
       "  'products': [{'product_name': 'Spatula',\n",
       "    'url_slug': '12345',\n",
       "    'product_id': 1},\n",
       "   {'product_name': 'Pressure Cooker', 'url_slug': '8764', 'product_id': 2},\n",
       "   {'product_name': 'Spatula', 'url_slug': '12345', 'product_id': 1},\n",
       "   {'product_name': 'Pressure Cooker', 'url_slug': '8764', 'product_id': 2},\n",
       "   {'product_name': 'Spatula', 'url_slug': '12345', 'product_id': 1},\n",
       "   {'product_name': 'Pressure Cooker', 'url_slug': '8764', 'product_id': 2}]},\n",
       " {'username': 'gov', 'id': 5, 'products': []}]"
      ]
     },
     "execution_count": 6,
     "metadata": {},
     "output_type": "execute_result"
    }
   ],
   "source": [
    "purchase_list[0]"
   ]
  },
  {
   "cell_type": "code",
   "execution_count": 7,
   "id": "e29aa30b",
   "metadata": {},
   "outputs": [],
   "source": [
    "purchase_json = json.dumps(purchase_list[0])"
   ]
  },
  {
   "cell_type": "code",
   "execution_count": 8,
   "id": "5388a569",
   "metadata": {},
   "outputs": [
    {
     "data": {
      "text/plain": [
       "'[{\"username\": \"\", \"id\": 1, \"products\": [{\"product_name\": \"Spatula\", \"url_slug\": \"12345\", \"product_id\": 1}, {\"product_name\": \"Pressure Cooker\", \"url_slug\": \"8764\", \"product_id\": 2}, {\"product_name\": \"Spatula\", \"url_slug\": \"12345\", \"product_id\": 1}, {\"product_name\": \"Pressure Cooker\", \"url_slug\": \"8764\", \"product_id\": 2}, {\"product_name\": \"Spatula\", \"url_slug\": \"12345\", \"product_id\": 1}, {\"product_name\": \"Pressure Cooker\", \"url_slug\": \"8764\", \"product_id\": 2}]}, {\"username\": \"Ashish Thapa\", \"id\": 2, \"products\": [{\"product_name\": \"Spatula\", \"url_slug\": \"12345\", \"product_id\": 1}, {\"product_name\": \"Pressure Cooker\", \"url_slug\": \"8764\", \"product_id\": 2}, {\"product_name\": \"Spatula\", \"url_slug\": \"12345\", \"product_id\": 1}, {\"product_name\": \"Pressure Cooker\", \"url_slug\": \"8764\", \"product_id\": 2}]}, {\"username\": \"ashish\", \"id\": 4, \"products\": [{\"product_name\": \"Spatula\", \"url_slug\": \"12345\", \"product_id\": 1}, {\"product_name\": \"Pressure Cooker\", \"url_slug\": \"8764\", \"product_id\": 2}, {\"product_name\": \"Spatula\", \"url_slug\": \"12345\", \"product_id\": 1}, {\"product_name\": \"Pressure Cooker\", \"url_slug\": \"8764\", \"product_id\": 2}, {\"product_name\": \"Spatula\", \"url_slug\": \"12345\", \"product_id\": 1}, {\"product_name\": \"Pressure Cooker\", \"url_slug\": \"8764\", \"product_id\": 2}]}, {\"username\": \"gov\", \"id\": 5, \"products\": []}]'"
      ]
     },
     "execution_count": 8,
     "metadata": {},
     "output_type": "execute_result"
    }
   ],
   "source": [
    "purchase_json"
   ]
  },
  {
   "cell_type": "code",
   "execution_count": 9,
   "id": "57f0a844",
   "metadata": {},
   "outputs": [],
   "source": [
    "df = pd.read_json(purchase_json)"
   ]
  },
  {
   "cell_type": "code",
   "execution_count": 10,
   "id": "91db7600",
   "metadata": {},
   "outputs": [
    {
     "data": {
      "text/html": [
       "<div>\n",
       "<style scoped>\n",
       "    .dataframe tbody tr th:only-of-type {\n",
       "        vertical-align: middle;\n",
       "    }\n",
       "\n",
       "    .dataframe tbody tr th {\n",
       "        vertical-align: top;\n",
       "    }\n",
       "\n",
       "    .dataframe thead th {\n",
       "        text-align: right;\n",
       "    }\n",
       "</style>\n",
       "<table border=\"1\" class=\"dataframe\">\n",
       "  <thead>\n",
       "    <tr style=\"text-align: right;\">\n",
       "      <th></th>\n",
       "      <th>username</th>\n",
       "      <th>id</th>\n",
       "      <th>products</th>\n",
       "    </tr>\n",
       "  </thead>\n",
       "  <tbody>\n",
       "    <tr>\n",
       "      <th>0</th>\n",
       "      <td></td>\n",
       "      <td>1</td>\n",
       "      <td>[{'product_name': 'Spatula', 'url_slug': '1234...</td>\n",
       "    </tr>\n",
       "    <tr>\n",
       "      <th>1</th>\n",
       "      <td>Ashish Thapa</td>\n",
       "      <td>2</td>\n",
       "      <td>[{'product_name': 'Spatula', 'url_slug': '1234...</td>\n",
       "    </tr>\n",
       "    <tr>\n",
       "      <th>2</th>\n",
       "      <td>ashish</td>\n",
       "      <td>4</td>\n",
       "      <td>[{'product_name': 'Spatula', 'url_slug': '1234...</td>\n",
       "    </tr>\n",
       "    <tr>\n",
       "      <th>3</th>\n",
       "      <td>gov</td>\n",
       "      <td>5</td>\n",
       "      <td>[]</td>\n",
       "    </tr>\n",
       "  </tbody>\n",
       "</table>\n",
       "</div>"
      ],
      "text/plain": [
       "       username  id                                           products\n",
       "0                 1  [{'product_name': 'Spatula', 'url_slug': '1234...\n",
       "1  Ashish Thapa   2  [{'product_name': 'Spatula', 'url_slug': '1234...\n",
       "2        ashish   4  [{'product_name': 'Spatula', 'url_slug': '1234...\n",
       "3           gov   5                                                 []"
      ]
     },
     "execution_count": 10,
     "metadata": {},
     "output_type": "execute_result"
    }
   ],
   "source": [
    "df"
   ]
  },
  {
   "cell_type": "code",
   "execution_count": null,
   "id": "61f2887b",
   "metadata": {},
   "outputs": [],
   "source": []
  },
  {
   "cell_type": "code",
   "execution_count": null,
   "id": "d91eac1f",
   "metadata": {},
   "outputs": [],
   "source": []
  }
 ],
 "metadata": {
  "kernelspec": {
   "display_name": "Python 3",
   "language": "python",
   "name": "python3"
  },
  "language_info": {
   "codemirror_mode": {
    "name": "ipython",
    "version": 3
   },
   "file_extension": ".py",
   "mimetype": "text/x-python",
   "name": "python",
   "nbconvert_exporter": "python",
   "pygments_lexer": "ipython3",
   "version": "3.7.11"
  }
 },
 "nbformat": 4,
 "nbformat_minor": 5
}
