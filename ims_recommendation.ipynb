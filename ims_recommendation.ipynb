{
 "cells": [
  {
   "cell_type": "code",
   "execution_count": 1,
   "id": "2566c1f2",
   "metadata": {},
   "outputs": [],
   "source": [
    "# It is a quick stackoverflow fix to import gensim\n",
    "import smart_open \n",
    "smart_open.open = smart_open.smart_open"
   ]
  },
  {
   "cell_type": "code",
   "execution_count": 2,
   "id": "170d0f2c",
   "metadata": {},
   "outputs": [],
   "source": [
    "import pandas as pd\n",
    "import numpy as np \n",
    "import random \n",
    "from tqdm import tqdm\n",
    "from gensim.models import Word2Vec\n",
    "import matplotlib.pyplot as plt"
   ]
  },
  {
   "cell_type": "code",
   "execution_count": 13,
   "id": "02e7f04e",
   "metadata": {},
   "outputs": [
    {
     "data": {
      "text/plain": [
       "{'results': [{'username': '',\n",
       "   'id': 1,\n",
       "   'products': [{'product_name': 'Spatula',\n",
       "     'url_slug': '12345',\n",
       "     'product_id': 1},\n",
       "    {'product_name': 'Pressure Cooker', 'url_slug': '8764', 'product_id': 2},\n",
       "    {'product_name': 'Spatula', 'url_slug': '12345', 'product_id': 1},\n",
       "    {'product_name': 'Pressure Cooker', 'url_slug': '8764', 'product_id': 2},\n",
       "    {'product_name': 'Spatula', 'url_slug': '12345', 'product_id': 1},\n",
       "    {'product_name': 'Pressure Cooker', 'url_slug': '8764', 'product_id': 2}]},\n",
       "  {'username': 'Ashish Thapa',\n",
       "   'id': 2,\n",
       "   'products': [{'product_name': 'Spatula',\n",
       "     'url_slug': '12345',\n",
       "     'product_id': 1},\n",
       "    {'product_name': 'Pressure Cooker', 'url_slug': '8764', 'product_id': 2},\n",
       "    {'product_name': 'Spatula', 'url_slug': '12345', 'product_id': 1},\n",
       "    {'product_name': 'Pressure Cooker', 'url_slug': '8764', 'product_id': 2}]},\n",
       "  {'username': 'ashish',\n",
       "   'id': 4,\n",
       "   'products': [{'product_name': 'Spatula',\n",
       "     'url_slug': '12345',\n",
       "     'product_id': 1},\n",
       "    {'product_name': 'Pressure Cooker', 'url_slug': '8764', 'product_id': 2},\n",
       "    {'product_name': 'Spatula', 'url_slug': '12345', 'product_id': 1},\n",
       "    {'product_name': 'Pressure Cooker', 'url_slug': '8764', 'product_id': 2},\n",
       "    {'product_name': 'Spatula', 'url_slug': '12345', 'product_id': 1},\n",
       "    {'product_name': 'Pressure Cooker', 'url_slug': '8764', 'product_id': 2}]},\n",
       "  {'username': 'gov', 'id': 5, 'products': []}]}"
      ]
     },
     "execution_count": 13,
     "metadata": {},
     "output_type": "execute_result"
    }
   ],
   "source": [
    "import json\n",
    "\n",
    "with open('customer_dataset.json') as data_file:\n",
    "    data = json.load(data_file)\n",
    "data"
   ]
  },
  {
   "cell_type": "code",
   "execution_count": 37,
   "id": "08b29d82",
   "metadata": {},
   "outputs": [
    {
     "name": "stdout",
     "output_type": "stream",
     "text": [
      "[{'username': '', 'id': 1, 'products': [{'product_name': 'Spatula', 'url_slug': '12345', 'product_id': 1}, {'product_name': 'Pressure Cooker', 'url_slug': '8764', 'product_id': 2}, {'product_name': 'Spatula', 'url_slug': '12345', 'product_id': 1}, {'product_name': 'Pressure Cooker', 'url_slug': '8764', 'product_id': 2}, {'product_name': 'Spatula', 'url_slug': '12345', 'product_id': 1}, {'product_name': 'Pressure Cooker', 'url_slug': '8764', 'product_id': 2}]}, {'username': 'Ashish Thapa', 'id': 2, 'products': [{'product_name': 'Spatula', 'url_slug': '12345', 'product_id': 1}, {'product_name': 'Pressure Cooker', 'url_slug': '8764', 'product_id': 2}, {'product_name': 'Spatula', 'url_slug': '12345', 'product_id': 1}, {'product_name': 'Pressure Cooker', 'url_slug': '8764', 'product_id': 2}]}, {'username': 'ashish', 'id': 4, 'products': [{'product_name': 'Spatula', 'url_slug': '12345', 'product_id': 1}, {'product_name': 'Pressure Cooker', 'url_slug': '8764', 'product_id': 2}, {'product_name': 'Spatula', 'url_slug': '12345', 'product_id': 1}, {'product_name': 'Pressure Cooker', 'url_slug': '8764', 'product_id': 2}, {'product_name': 'Spatula', 'url_slug': '12345', 'product_id': 1}, {'product_name': 'Pressure Cooker', 'url_slug': '8764', 'product_id': 2}]}, {'username': 'gov', 'id': 5, 'products': []}]\n"
     ]
    }
   ],
   "source": [
    "purchase_list = []\n",
    "\n",
    "for i in data.items(): \n",
    "    print(i[1][:])\n",
    "    purchase_list.append(i[1][:])"
   ]
  },
  {
   "cell_type": "code",
   "execution_count": 38,
   "id": "c21251af",
   "metadata": {},
   "outputs": [
    {
     "data": {
      "text/plain": [
       "[[{'username': '',\n",
       "   'id': 1,\n",
       "   'products': [{'product_name': 'Spatula',\n",
       "     'url_slug': '12345',\n",
       "     'product_id': 1},\n",
       "    {'product_name': 'Pressure Cooker', 'url_slug': '8764', 'product_id': 2},\n",
       "    {'product_name': 'Spatula', 'url_slug': '12345', 'product_id': 1},\n",
       "    {'product_name': 'Pressure Cooker', 'url_slug': '8764', 'product_id': 2},\n",
       "    {'product_name': 'Spatula', 'url_slug': '12345', 'product_id': 1},\n",
       "    {'product_name': 'Pressure Cooker', 'url_slug': '8764', 'product_id': 2}]},\n",
       "  {'username': 'Ashish Thapa',\n",
       "   'id': 2,\n",
       "   'products': [{'product_name': 'Spatula',\n",
       "     'url_slug': '12345',\n",
       "     'product_id': 1},\n",
       "    {'product_name': 'Pressure Cooker', 'url_slug': '8764', 'product_id': 2},\n",
       "    {'product_name': 'Spatula', 'url_slug': '12345', 'product_id': 1},\n",
       "    {'product_name': 'Pressure Cooker', 'url_slug': '8764', 'product_id': 2}]},\n",
       "  {'username': 'ashish',\n",
       "   'id': 4,\n",
       "   'products': [{'product_name': 'Spatula',\n",
       "     'url_slug': '12345',\n",
       "     'product_id': 1},\n",
       "    {'product_name': 'Pressure Cooker', 'url_slug': '8764', 'product_id': 2},\n",
       "    {'product_name': 'Spatula', 'url_slug': '12345', 'product_id': 1},\n",
       "    {'product_name': 'Pressure Cooker', 'url_slug': '8764', 'product_id': 2},\n",
       "    {'product_name': 'Spatula', 'url_slug': '12345', 'product_id': 1},\n",
       "    {'product_name': 'Pressure Cooker', 'url_slug': '8764', 'product_id': 2}]},\n",
       "  {'username': 'gov', 'id': 5, 'products': []}]]"
      ]
     },
     "execution_count": 38,
     "metadata": {},
     "output_type": "execute_result"
    }
   ],
   "source": [
    "purchase_list"
   ]
  },
  {
   "cell_type": "code",
   "execution_count": 44,
   "id": "d19fd40d",
   "metadata": {},
   "outputs": [
    {
     "data": {
      "text/plain": [
       "[{'username': '',\n",
       "  'id': 1,\n",
       "  'products': [{'product_name': 'Spatula',\n",
       "    'url_slug': '12345',\n",
       "    'product_id': 1},\n",
       "   {'product_name': 'Pressure Cooker', 'url_slug': '8764', 'product_id': 2},\n",
       "   {'product_name': 'Spatula', 'url_slug': '12345', 'product_id': 1},\n",
       "   {'product_name': 'Pressure Cooker', 'url_slug': '8764', 'product_id': 2},\n",
       "   {'product_name': 'Spatula', 'url_slug': '12345', 'product_id': 1},\n",
       "   {'product_name': 'Pressure Cooker', 'url_slug': '8764', 'product_id': 2}]},\n",
       " {'username': 'Ashish Thapa',\n",
       "  'id': 2,\n",
       "  'products': [{'product_name': 'Spatula',\n",
       "    'url_slug': '12345',\n",
       "    'product_id': 1},\n",
       "   {'product_name': 'Pressure Cooker', 'url_slug': '8764', 'product_id': 2},\n",
       "   {'product_name': 'Spatula', 'url_slug': '12345', 'product_id': 1},\n",
       "   {'product_name': 'Pressure Cooker', 'url_slug': '8764', 'product_id': 2}]},\n",
       " {'username': 'ashish',\n",
       "  'id': 4,\n",
       "  'products': [{'product_name': 'Spatula',\n",
       "    'url_slug': '12345',\n",
       "    'product_id': 1},\n",
       "   {'product_name': 'Pressure Cooker', 'url_slug': '8764', 'product_id': 2},\n",
       "   {'product_name': 'Spatula', 'url_slug': '12345', 'product_id': 1},\n",
       "   {'product_name': 'Pressure Cooker', 'url_slug': '8764', 'product_id': 2},\n",
       "   {'product_name': 'Spatula', 'url_slug': '12345', 'product_id': 1},\n",
       "   {'product_name': 'Pressure Cooker', 'url_slug': '8764', 'product_id': 2}]},\n",
       " {'username': 'gov', 'id': 5, 'products': []}]"
      ]
     },
     "execution_count": 44,
     "metadata": {},
     "output_type": "execute_result"
    }
   ],
   "source": [
    "purchase_list[0]"
   ]
  },
  {
   "cell_type": "code",
   "execution_count": 46,
   "id": "e29aa30b",
   "metadata": {},
   "outputs": [],
   "source": [
    "purchase_json = json.dumps(purchase_list[0])"
   ]
  },
  {
   "cell_type": "code",
   "execution_count": 47,
   "id": "5388a569",
   "metadata": {},
   "outputs": [
    {
     "data": {
      "text/plain": [
       "'[{\"username\": \"\", \"id\": 1, \"products\": [{\"product_name\": \"Spatula\", \"url_slug\": \"12345\", \"product_id\": 1}, {\"product_name\": \"Pressure Cooker\", \"url_slug\": \"8764\", \"product_id\": 2}, {\"product_name\": \"Spatula\", \"url_slug\": \"12345\", \"product_id\": 1}, {\"product_name\": \"Pressure Cooker\", \"url_slug\": \"8764\", \"product_id\": 2}, {\"product_name\": \"Spatula\", \"url_slug\": \"12345\", \"product_id\": 1}, {\"product_name\": \"Pressure Cooker\", \"url_slug\": \"8764\", \"product_id\": 2}]}, {\"username\": \"Ashish Thapa\", \"id\": 2, \"products\": [{\"product_name\": \"Spatula\", \"url_slug\": \"12345\", \"product_id\": 1}, {\"product_name\": \"Pressure Cooker\", \"url_slug\": \"8764\", \"product_id\": 2}, {\"product_name\": \"Spatula\", \"url_slug\": \"12345\", \"product_id\": 1}, {\"product_name\": \"Pressure Cooker\", \"url_slug\": \"8764\", \"product_id\": 2}]}, {\"username\": \"ashish\", \"id\": 4, \"products\": [{\"product_name\": \"Spatula\", \"url_slug\": \"12345\", \"product_id\": 1}, {\"product_name\": \"Pressure Cooker\", \"url_slug\": \"8764\", \"product_id\": 2}, {\"product_name\": \"Spatula\", \"url_slug\": \"12345\", \"product_id\": 1}, {\"product_name\": \"Pressure Cooker\", \"url_slug\": \"8764\", \"product_id\": 2}, {\"product_name\": \"Spatula\", \"url_slug\": \"12345\", \"product_id\": 1}, {\"product_name\": \"Pressure Cooker\", \"url_slug\": \"8764\", \"product_id\": 2}]}, {\"username\": \"gov\", \"id\": 5, \"products\": []}]'"
      ]
     },
     "execution_count": 47,
     "metadata": {},
     "output_type": "execute_result"
    }
   ],
   "source": [
    "purchase_json"
   ]
  },
  {
   "cell_type": "code",
   "execution_count": 48,
   "id": "57f0a844",
   "metadata": {},
   "outputs": [],
   "source": [
    "df = pd.read_json(purchase_json)"
   ]
  },
  {
   "cell_type": "code",
   "execution_count": 49,
   "id": "91db7600",
   "metadata": {},
   "outputs": [
    {
     "data": {
      "text/html": [
       "<div>\n",
       "<style scoped>\n",
       "    .dataframe tbody tr th:only-of-type {\n",
       "        vertical-align: middle;\n",
       "    }\n",
       "\n",
       "    .dataframe tbody tr th {\n",
       "        vertical-align: top;\n",
       "    }\n",
       "\n",
       "    .dataframe thead th {\n",
       "        text-align: right;\n",
       "    }\n",
       "</style>\n",
       "<table border=\"1\" class=\"dataframe\">\n",
       "  <thead>\n",
       "    <tr style=\"text-align: right;\">\n",
       "      <th></th>\n",
       "      <th>username</th>\n",
       "      <th>id</th>\n",
       "      <th>products</th>\n",
       "    </tr>\n",
       "  </thead>\n",
       "  <tbody>\n",
       "    <tr>\n",
       "      <th>0</th>\n",
       "      <td></td>\n",
       "      <td>1</td>\n",
       "      <td>[{'product_name': 'Spatula', 'url_slug': '1234...</td>\n",
       "    </tr>\n",
       "    <tr>\n",
       "      <th>1</th>\n",
       "      <td>Ashish Thapa</td>\n",
       "      <td>2</td>\n",
       "      <td>[{'product_name': 'Spatula', 'url_slug': '1234...</td>\n",
       "    </tr>\n",
       "    <tr>\n",
       "      <th>2</th>\n",
       "      <td>ashish</td>\n",
       "      <td>4</td>\n",
       "      <td>[{'product_name': 'Spatula', 'url_slug': '1234...</td>\n",
       "    </tr>\n",
       "    <tr>\n",
       "      <th>3</th>\n",
       "      <td>gov</td>\n",
       "      <td>5</td>\n",
       "      <td>[]</td>\n",
       "    </tr>\n",
       "  </tbody>\n",
       "</table>\n",
       "</div>"
      ],
      "text/plain": [
       "       username  id                                           products\n",
       "0                 1  [{'product_name': 'Spatula', 'url_slug': '1234...\n",
       "1  Ashish Thapa   2  [{'product_name': 'Spatula', 'url_slug': '1234...\n",
       "2        ashish   4  [{'product_name': 'Spatula', 'url_slug': '1234...\n",
       "3           gov   5                                                 []"
      ]
     },
     "execution_count": 49,
     "metadata": {},
     "output_type": "execute_result"
    }
   ],
   "source": [
    "df"
   ]
  },
  {
   "cell_type": "code",
   "execution_count": 60,
   "id": "61f2887b",
   "metadata": {},
   "outputs": [
    {
     "name": "stdout",
     "output_type": "stream",
     "text": [
      "{'product_name': 'Spatula', 'url_slug': '12345', 'product_id': 1}\n",
      "{'product_name': 'Spatula', 'url_slug': '12345', 'product_id': 1}\n",
      "{'product_name': 'Spatula', 'url_slug': '12345', 'product_id': 1}\n"
     ]
    },
    {
     "ename": "IndexError",
     "evalue": "list index out of range",
     "output_type": "error",
     "traceback": [
      "\u001b[1;31m---------------------------------------------------------------------------\u001b[0m",
      "\u001b[1;31mIndexError\u001b[0m                                Traceback (most recent call last)",
      "\u001b[1;32m<ipython-input-60-fb45aa4648b5>\u001b[0m in \u001b[0;36m<module>\u001b[1;34m\u001b[0m\n\u001b[0;32m      1\u001b[0m \u001b[1;32mfor\u001b[0m \u001b[0mproduct\u001b[0m \u001b[1;32min\u001b[0m \u001b[0mdf\u001b[0m\u001b[1;33m[\u001b[0m\u001b[1;34m'products'\u001b[0m\u001b[1;33m]\u001b[0m\u001b[1;33m:\u001b[0m\u001b[1;33m\u001b[0m\u001b[1;33m\u001b[0m\u001b[0m\n\u001b[1;32m----> 2\u001b[1;33m     \u001b[1;32mif\u001b[0m \u001b[1;32mnot\u001b[0m \u001b[0mproduct\u001b[0m\u001b[1;33m[\u001b[0m\u001b[1;36m0\u001b[0m\u001b[1;33m]\u001b[0m\u001b[1;33m:\u001b[0m\u001b[1;33m\u001b[0m\u001b[1;33m\u001b[0m\u001b[0m\n\u001b[0m\u001b[0;32m      3\u001b[0m         \u001b[1;32mcontinue\u001b[0m\u001b[1;33m\u001b[0m\u001b[1;33m\u001b[0m\u001b[0m\n\u001b[0;32m      4\u001b[0m     \u001b[1;32melse\u001b[0m\u001b[1;33m:\u001b[0m\u001b[1;33m\u001b[0m\u001b[1;33m\u001b[0m\u001b[0m\n\u001b[0;32m      5\u001b[0m         \u001b[0mprint\u001b[0m\u001b[1;33m(\u001b[0m\u001b[0mproduct\u001b[0m\u001b[1;33m[\u001b[0m\u001b[1;36m0\u001b[0m\u001b[1;33m]\u001b[0m\u001b[1;33m)\u001b[0m\u001b[1;33m\u001b[0m\u001b[1;33m\u001b[0m\u001b[0m\n",
      "\u001b[1;31mIndexError\u001b[0m: list index out of range"
     ]
    }
   ],
   "source": []
  },
  {
   "cell_type": "code",
   "execution_count": null,
   "id": "d91eac1f",
   "metadata": {},
   "outputs": [],
   "source": []
  }
 ],
 "metadata": {
  "kernelspec": {
   "display_name": "Python 3",
   "language": "python",
   "name": "python3"
  },
  "language_info": {
   "codemirror_mode": {
    "name": "ipython",
    "version": 3
   },
   "file_extension": ".py",
   "mimetype": "text/x-python",
   "name": "python",
   "nbconvert_exporter": "python",
   "pygments_lexer": "ipython3",
   "version": "3.7.11"
  }
 },
 "nbformat": 4,
 "nbformat_minor": 5
}
